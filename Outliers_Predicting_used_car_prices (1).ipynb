{
  "cells": [
    {
      "cell_type": "markdown",
      "metadata": {
        "id": "yzYpqvm8dt03"
      },
      "source": [
        "# Predicting used car prices\n",
        "\n",
        "In this notebook, I'll work with the [Kaggle](https://www.kaggle.com/avikasliwal/used-cars-price-prediction) dataset about used cars and their prices. The notebook first includes exploration of the dataset followed by prediction of prices."
      ]
    },
    {
      "cell_type": "markdown",
      "metadata": {
        "id": "vQiBQuEwdt06"
      },
      "source": [
        "## Import libraries\n",
        "\n",
        "I'll import `datetime` to handle year, `numpy` to work with arrays and `pandas` to read in the dataset files, `matplotlib` & `seaborn` for plotting and `sklearn` for various machine learning models."
      ]
    },
    {
      "cell_type": "code",
      "execution_count": 1,
      "metadata": {
        "id": "yTCZbGdadt07",
        "colab": {
          "base_uri": "https://localhost:8080/"
        },
        "outputId": "4107acca-2894-4c76-9a31-e3a8ab55c6bd"
      },
      "outputs": [
        {
          "output_type": "stream",
          "name": "stderr",
          "text": [
            "/usr/local/lib/python3.9/dist-packages/sklearn/experimental/enable_hist_gradient_boosting.py:16: UserWarning: Since version 1.0, it is not needed to import enable_hist_gradient_boosting anymore. HistGradientBoostingClassifier and HistGradientBoostingRegressor are now stable and can be normally imported from sklearn.ensemble.\n",
            "  warnings.warn(\n"
          ]
        }
      ],
      "source": [
        "import datetime\n",
        "\n",
        "import numpy as np\n",
        "import pandas as pd\n",
        "\n",
        "import matplotlib.pyplot as plt\n",
        "import seaborn as sns\n",
        "%matplotlib inline\n",
        "\n",
        "from sklearn.model_selection import train_test_split\n",
        "from sklearn.linear_model import LinearRegression\n",
        "from sklearn import linear_model\n",
        "from sklearn.ensemble import RandomForestRegressor\n",
        "from sklearn.tree import DecisionTreeRegressor\n",
        "from xgboost import XGBRegressor\n",
        "from sklearn.svm import SVR\n",
        "from sklearn.ensemble import GradientBoostingRegressor\n",
        "# Explicitly require this experimental feature\n",
        "from sklearn.experimental import enable_hist_gradient_boosting\n",
        "# Now you can import normally from ensemble\n",
        "from sklearn.ensemble import HistGradientBoostingRegressor\n",
        "import xgboost as xgb\n",
        "from sklearn.linear_model import BayesianRidge\n",
        "from sklearn.preprocessing import StandardScaler\n",
        "from sklearn.metrics import r2_score"
      ]
    },
    {
      "cell_type": "markdown",
      "metadata": {
        "id": "s0RPmq-xdt08"
      },
      "source": [
        "## Read dataset\n",
        "\n",
        "I'll read the dataset and get information about it."
      ]
    },
    {
      "cell_type": "code",
      "execution_count": 2,
      "metadata": {
        "colab": {
          "base_uri": "https://localhost:8080/",
          "height": 444
        },
        "id": "M5Xp9BMtdt09",
        "outputId": "17e25a59-a6af-4817-d350-951e2101fac4"
      },
      "outputs": [
        {
          "output_type": "execute_result",
          "data": {
            "text/plain": [
              "                               Name    Location  Year  Kilometers_Driven  \\\n",
              "0            Maruti Wagon R LXI CNG      Mumbai  2010              72000   \n",
              "1  Hyundai Creta 1.6 CRDi SX Option        Pune  2015              41000   \n",
              "2                      Honda Jazz V     Chennai  2011              46000   \n",
              "3                 Maruti Ertiga VDI     Chennai  2012              87000   \n",
              "4   Audi A4 New 2.0 TDI Multitronic  Coimbatore  2013              40670   \n",
              "\n",
              "  Fuel_Type Transmission Owner_Type     Mileage   Engine      Power  Seats  \\\n",
              "0       CNG       Manual      First  26.6 km/kg   998 CC  58.16 bhp    5.0   \n",
              "1    Diesel       Manual      First  19.67 kmpl  1582 CC  126.2 bhp    5.0   \n",
              "2    Petrol       Manual      First   18.2 kmpl  1199 CC   88.7 bhp    5.0   \n",
              "3    Diesel       Manual      First  20.77 kmpl  1248 CC  88.76 bhp    7.0   \n",
              "4    Diesel    Automatic     Second   15.2 kmpl  1968 CC  140.8 bhp    5.0   \n",
              "\n",
              "   New_Price  Price  \n",
              "0        NaN   1.75  \n",
              "1        NaN  12.50  \n",
              "2  8.61 Lakh   4.50  \n",
              "3        NaN   6.00  \n",
              "4        NaN  17.74  "
            ],
            "text/html": [
              "\n",
              "  <div id=\"df-8306ccc6-2651-483d-b41c-f2fdfdda53ef\">\n",
              "    <div class=\"colab-df-container\">\n",
              "      <div>\n",
              "<style scoped>\n",
              "    .dataframe tbody tr th:only-of-type {\n",
              "        vertical-align: middle;\n",
              "    }\n",
              "\n",
              "    .dataframe tbody tr th {\n",
              "        vertical-align: top;\n",
              "    }\n",
              "\n",
              "    .dataframe thead th {\n",
              "        text-align: right;\n",
              "    }\n",
              "</style>\n",
              "<table border=\"1\" class=\"dataframe\">\n",
              "  <thead>\n",
              "    <tr style=\"text-align: right;\">\n",
              "      <th></th>\n",
              "      <th>Name</th>\n",
              "      <th>Location</th>\n",
              "      <th>Year</th>\n",
              "      <th>Kilometers_Driven</th>\n",
              "      <th>Fuel_Type</th>\n",
              "      <th>Transmission</th>\n",
              "      <th>Owner_Type</th>\n",
              "      <th>Mileage</th>\n",
              "      <th>Engine</th>\n",
              "      <th>Power</th>\n",
              "      <th>Seats</th>\n",
              "      <th>New_Price</th>\n",
              "      <th>Price</th>\n",
              "    </tr>\n",
              "  </thead>\n",
              "  <tbody>\n",
              "    <tr>\n",
              "      <th>0</th>\n",
              "      <td>Maruti Wagon R LXI CNG</td>\n",
              "      <td>Mumbai</td>\n",
              "      <td>2010</td>\n",
              "      <td>72000</td>\n",
              "      <td>CNG</td>\n",
              "      <td>Manual</td>\n",
              "      <td>First</td>\n",
              "      <td>26.6 km/kg</td>\n",
              "      <td>998 CC</td>\n",
              "      <td>58.16 bhp</td>\n",
              "      <td>5.0</td>\n",
              "      <td>NaN</td>\n",
              "      <td>1.75</td>\n",
              "    </tr>\n",
              "    <tr>\n",
              "      <th>1</th>\n",
              "      <td>Hyundai Creta 1.6 CRDi SX Option</td>\n",
              "      <td>Pune</td>\n",
              "      <td>2015</td>\n",
              "      <td>41000</td>\n",
              "      <td>Diesel</td>\n",
              "      <td>Manual</td>\n",
              "      <td>First</td>\n",
              "      <td>19.67 kmpl</td>\n",
              "      <td>1582 CC</td>\n",
              "      <td>126.2 bhp</td>\n",
              "      <td>5.0</td>\n",
              "      <td>NaN</td>\n",
              "      <td>12.50</td>\n",
              "    </tr>\n",
              "    <tr>\n",
              "      <th>2</th>\n",
              "      <td>Honda Jazz V</td>\n",
              "      <td>Chennai</td>\n",
              "      <td>2011</td>\n",
              "      <td>46000</td>\n",
              "      <td>Petrol</td>\n",
              "      <td>Manual</td>\n",
              "      <td>First</td>\n",
              "      <td>18.2 kmpl</td>\n",
              "      <td>1199 CC</td>\n",
              "      <td>88.7 bhp</td>\n",
              "      <td>5.0</td>\n",
              "      <td>8.61 Lakh</td>\n",
              "      <td>4.50</td>\n",
              "    </tr>\n",
              "    <tr>\n",
              "      <th>3</th>\n",
              "      <td>Maruti Ertiga VDI</td>\n",
              "      <td>Chennai</td>\n",
              "      <td>2012</td>\n",
              "      <td>87000</td>\n",
              "      <td>Diesel</td>\n",
              "      <td>Manual</td>\n",
              "      <td>First</td>\n",
              "      <td>20.77 kmpl</td>\n",
              "      <td>1248 CC</td>\n",
              "      <td>88.76 bhp</td>\n",
              "      <td>7.0</td>\n",
              "      <td>NaN</td>\n",
              "      <td>6.00</td>\n",
              "    </tr>\n",
              "    <tr>\n",
              "      <th>4</th>\n",
              "      <td>Audi A4 New 2.0 TDI Multitronic</td>\n",
              "      <td>Coimbatore</td>\n",
              "      <td>2013</td>\n",
              "      <td>40670</td>\n",
              "      <td>Diesel</td>\n",
              "      <td>Automatic</td>\n",
              "      <td>Second</td>\n",
              "      <td>15.2 kmpl</td>\n",
              "      <td>1968 CC</td>\n",
              "      <td>140.8 bhp</td>\n",
              "      <td>5.0</td>\n",
              "      <td>NaN</td>\n",
              "      <td>17.74</td>\n",
              "    </tr>\n",
              "  </tbody>\n",
              "</table>\n",
              "</div>\n",
              "      <button class=\"colab-df-convert\" onclick=\"convertToInteractive('df-8306ccc6-2651-483d-b41c-f2fdfdda53ef')\"\n",
              "              title=\"Convert this dataframe to an interactive table.\"\n",
              "              style=\"display:none;\">\n",
              "        \n",
              "  <svg xmlns=\"http://www.w3.org/2000/svg\" height=\"24px\"viewBox=\"0 0 24 24\"\n",
              "       width=\"24px\">\n",
              "    <path d=\"M0 0h24v24H0V0z\" fill=\"none\"/>\n",
              "    <path d=\"M18.56 5.44l.94 2.06.94-2.06 2.06-.94-2.06-.94-.94-2.06-.94 2.06-2.06.94zm-11 1L8.5 8.5l.94-2.06 2.06-.94-2.06-.94L8.5 2.5l-.94 2.06-2.06.94zm10 10l.94 2.06.94-2.06 2.06-.94-2.06-.94-.94-2.06-.94 2.06-2.06.94z\"/><path d=\"M17.41 7.96l-1.37-1.37c-.4-.4-.92-.59-1.43-.59-.52 0-1.04.2-1.43.59L10.3 9.45l-7.72 7.72c-.78.78-.78 2.05 0 2.83L4 21.41c.39.39.9.59 1.41.59.51 0 1.02-.2 1.41-.59l7.78-7.78 2.81-2.81c.8-.78.8-2.07 0-2.86zM5.41 20L4 18.59l7.72-7.72 1.47 1.35L5.41 20z\"/>\n",
              "  </svg>\n",
              "      </button>\n",
              "      \n",
              "  <style>\n",
              "    .colab-df-container {\n",
              "      display:flex;\n",
              "      flex-wrap:wrap;\n",
              "      gap: 12px;\n",
              "    }\n",
              "\n",
              "    .colab-df-convert {\n",
              "      background-color: #E8F0FE;\n",
              "      border: none;\n",
              "      border-radius: 50%;\n",
              "      cursor: pointer;\n",
              "      display: none;\n",
              "      fill: #1967D2;\n",
              "      height: 32px;\n",
              "      padding: 0 0 0 0;\n",
              "      width: 32px;\n",
              "    }\n",
              "\n",
              "    .colab-df-convert:hover {\n",
              "      background-color: #E2EBFA;\n",
              "      box-shadow: 0px 1px 2px rgba(60, 64, 67, 0.3), 0px 1px 3px 1px rgba(60, 64, 67, 0.15);\n",
              "      fill: #174EA6;\n",
              "    }\n",
              "\n",
              "    [theme=dark] .colab-df-convert {\n",
              "      background-color: #3B4455;\n",
              "      fill: #D2E3FC;\n",
              "    }\n",
              "\n",
              "    [theme=dark] .colab-df-convert:hover {\n",
              "      background-color: #434B5C;\n",
              "      box-shadow: 0px 1px 3px 1px rgba(0, 0, 0, 0.15);\n",
              "      filter: drop-shadow(0px 1px 2px rgba(0, 0, 0, 0.3));\n",
              "      fill: #FFFFFF;\n",
              "    }\n",
              "  </style>\n",
              "\n",
              "      <script>\n",
              "        const buttonEl =\n",
              "          document.querySelector('#df-8306ccc6-2651-483d-b41c-f2fdfdda53ef button.colab-df-convert');\n",
              "        buttonEl.style.display =\n",
              "          google.colab.kernel.accessAllowed ? 'block' : 'none';\n",
              "\n",
              "        async function convertToInteractive(key) {\n",
              "          const element = document.querySelector('#df-8306ccc6-2651-483d-b41c-f2fdfdda53ef');\n",
              "          const dataTable =\n",
              "            await google.colab.kernel.invokeFunction('convertToInteractive',\n",
              "                                                     [key], {});\n",
              "          if (!dataTable) return;\n",
              "\n",
              "          const docLinkHtml = 'Like what you see? Visit the ' +\n",
              "            '<a target=\"_blank\" href=https://colab.research.google.com/notebooks/data_table.ipynb>data table notebook</a>'\n",
              "            + ' to learn more about interactive tables.';\n",
              "          element.innerHTML = '';\n",
              "          dataTable['output_type'] = 'display_data';\n",
              "          await google.colab.output.renderOutput(dataTable, element);\n",
              "          const docLink = document.createElement('div');\n",
              "          docLink.innerHTML = docLinkHtml;\n",
              "          element.appendChild(docLink);\n",
              "        }\n",
              "      </script>\n",
              "    </div>\n",
              "  </div>\n",
              "  "
            ]
          },
          "metadata": {},
          "execution_count": 2
        }
      ],
      "source": [
        "dataset = pd.read_csv(\"train_data.csv\")\n",
        "dataset.head(5)"
      ]
    },
    {
      "cell_type": "code",
      "source": [
        "dataset.describe()"
      ],
      "metadata": {
        "colab": {
          "base_uri": "https://localhost:8080/",
          "height": 300
        },
        "id": "QTlyipQ0iRwN",
        "outputId": "8ead54b5-da75-46f0-ca4c-960e403fd5e8"
      },
      "execution_count": 3,
      "outputs": [
        {
          "output_type": "execute_result",
          "data": {
            "text/plain": [
              "              Year  Kilometers_Driven        Seats        Price\n",
              "count  3499.000000       3.499000e+03  3474.000000  3499.000000\n",
              "mean   2013.373821       5.979420e+04     5.291307     9.605247\n",
              "std       3.223566       1.160794e+05     0.824893    11.250112\n",
              "min    1998.000000       1.710000e+02     2.000000     0.440000\n",
              "25%    2011.000000       3.400000e+04     5.000000     3.500000\n",
              "50%    2014.000000       5.344200e+04     5.000000     5.650000\n",
              "75%    2016.000000       7.303650e+04     5.000000    10.250000\n",
              "max    2019.000000       6.500000e+06    10.000000    97.070000"
            ],
            "text/html": [
              "\n",
              "  <div id=\"df-6ca6400a-f169-49be-9cfd-ad276705ee90\">\n",
              "    <div class=\"colab-df-container\">\n",
              "      <div>\n",
              "<style scoped>\n",
              "    .dataframe tbody tr th:only-of-type {\n",
              "        vertical-align: middle;\n",
              "    }\n",
              "\n",
              "    .dataframe tbody tr th {\n",
              "        vertical-align: top;\n",
              "    }\n",
              "\n",
              "    .dataframe thead th {\n",
              "        text-align: right;\n",
              "    }\n",
              "</style>\n",
              "<table border=\"1\" class=\"dataframe\">\n",
              "  <thead>\n",
              "    <tr style=\"text-align: right;\">\n",
              "      <th></th>\n",
              "      <th>Year</th>\n",
              "      <th>Kilometers_Driven</th>\n",
              "      <th>Seats</th>\n",
              "      <th>Price</th>\n",
              "    </tr>\n",
              "  </thead>\n",
              "  <tbody>\n",
              "    <tr>\n",
              "      <th>count</th>\n",
              "      <td>3499.000000</td>\n",
              "      <td>3.499000e+03</td>\n",
              "      <td>3474.000000</td>\n",
              "      <td>3499.000000</td>\n",
              "    </tr>\n",
              "    <tr>\n",
              "      <th>mean</th>\n",
              "      <td>2013.373821</td>\n",
              "      <td>5.979420e+04</td>\n",
              "      <td>5.291307</td>\n",
              "      <td>9.605247</td>\n",
              "    </tr>\n",
              "    <tr>\n",
              "      <th>std</th>\n",
              "      <td>3.223566</td>\n",
              "      <td>1.160794e+05</td>\n",
              "      <td>0.824893</td>\n",
              "      <td>11.250112</td>\n",
              "    </tr>\n",
              "    <tr>\n",
              "      <th>min</th>\n",
              "      <td>1998.000000</td>\n",
              "      <td>1.710000e+02</td>\n",
              "      <td>2.000000</td>\n",
              "      <td>0.440000</td>\n",
              "    </tr>\n",
              "    <tr>\n",
              "      <th>25%</th>\n",
              "      <td>2011.000000</td>\n",
              "      <td>3.400000e+04</td>\n",
              "      <td>5.000000</td>\n",
              "      <td>3.500000</td>\n",
              "    </tr>\n",
              "    <tr>\n",
              "      <th>50%</th>\n",
              "      <td>2014.000000</td>\n",
              "      <td>5.344200e+04</td>\n",
              "      <td>5.000000</td>\n",
              "      <td>5.650000</td>\n",
              "    </tr>\n",
              "    <tr>\n",
              "      <th>75%</th>\n",
              "      <td>2016.000000</td>\n",
              "      <td>7.303650e+04</td>\n",
              "      <td>5.000000</td>\n",
              "      <td>10.250000</td>\n",
              "    </tr>\n",
              "    <tr>\n",
              "      <th>max</th>\n",
              "      <td>2019.000000</td>\n",
              "      <td>6.500000e+06</td>\n",
              "      <td>10.000000</td>\n",
              "      <td>97.070000</td>\n",
              "    </tr>\n",
              "  </tbody>\n",
              "</table>\n",
              "</div>\n",
              "      <button class=\"colab-df-convert\" onclick=\"convertToInteractive('df-6ca6400a-f169-49be-9cfd-ad276705ee90')\"\n",
              "              title=\"Convert this dataframe to an interactive table.\"\n",
              "              style=\"display:none;\">\n",
              "        \n",
              "  <svg xmlns=\"http://www.w3.org/2000/svg\" height=\"24px\"viewBox=\"0 0 24 24\"\n",
              "       width=\"24px\">\n",
              "    <path d=\"M0 0h24v24H0V0z\" fill=\"none\"/>\n",
              "    <path d=\"M18.56 5.44l.94 2.06.94-2.06 2.06-.94-2.06-.94-.94-2.06-.94 2.06-2.06.94zm-11 1L8.5 8.5l.94-2.06 2.06-.94-2.06-.94L8.5 2.5l-.94 2.06-2.06.94zm10 10l.94 2.06.94-2.06 2.06-.94-2.06-.94-.94-2.06-.94 2.06-2.06.94z\"/><path d=\"M17.41 7.96l-1.37-1.37c-.4-.4-.92-.59-1.43-.59-.52 0-1.04.2-1.43.59L10.3 9.45l-7.72 7.72c-.78.78-.78 2.05 0 2.83L4 21.41c.39.39.9.59 1.41.59.51 0 1.02-.2 1.41-.59l7.78-7.78 2.81-2.81c.8-.78.8-2.07 0-2.86zM5.41 20L4 18.59l7.72-7.72 1.47 1.35L5.41 20z\"/>\n",
              "  </svg>\n",
              "      </button>\n",
              "      \n",
              "  <style>\n",
              "    .colab-df-container {\n",
              "      display:flex;\n",
              "      flex-wrap:wrap;\n",
              "      gap: 12px;\n",
              "    }\n",
              "\n",
              "    .colab-df-convert {\n",
              "      background-color: #E8F0FE;\n",
              "      border: none;\n",
              "      border-radius: 50%;\n",
              "      cursor: pointer;\n",
              "      display: none;\n",
              "      fill: #1967D2;\n",
              "      height: 32px;\n",
              "      padding: 0 0 0 0;\n",
              "      width: 32px;\n",
              "    }\n",
              "\n",
              "    .colab-df-convert:hover {\n",
              "      background-color: #E2EBFA;\n",
              "      box-shadow: 0px 1px 2px rgba(60, 64, 67, 0.3), 0px 1px 3px 1px rgba(60, 64, 67, 0.15);\n",
              "      fill: #174EA6;\n",
              "    }\n",
              "\n",
              "    [theme=dark] .colab-df-convert {\n",
              "      background-color: #3B4455;\n",
              "      fill: #D2E3FC;\n",
              "    }\n",
              "\n",
              "    [theme=dark] .colab-df-convert:hover {\n",
              "      background-color: #434B5C;\n",
              "      box-shadow: 0px 1px 3px 1px rgba(0, 0, 0, 0.15);\n",
              "      filter: drop-shadow(0px 1px 2px rgba(0, 0, 0, 0.3));\n",
              "      fill: #FFFFFF;\n",
              "    }\n",
              "  </style>\n",
              "\n",
              "      <script>\n",
              "        const buttonEl =\n",
              "          document.querySelector('#df-6ca6400a-f169-49be-9cfd-ad276705ee90 button.colab-df-convert');\n",
              "        buttonEl.style.display =\n",
              "          google.colab.kernel.accessAllowed ? 'block' : 'none';\n",
              "\n",
              "        async function convertToInteractive(key) {\n",
              "          const element = document.querySelector('#df-6ca6400a-f169-49be-9cfd-ad276705ee90');\n",
              "          const dataTable =\n",
              "            await google.colab.kernel.invokeFunction('convertToInteractive',\n",
              "                                                     [key], {});\n",
              "          if (!dataTable) return;\n",
              "\n",
              "          const docLinkHtml = 'Like what you see? Visit the ' +\n",
              "            '<a target=\"_blank\" href=https://colab.research.google.com/notebooks/data_table.ipynb>data table notebook</a>'\n",
              "            + ' to learn more about interactive tables.';\n",
              "          element.innerHTML = '';\n",
              "          dataTable['output_type'] = 'display_data';\n",
              "          await google.colab.output.renderOutput(dataTable, element);\n",
              "          const docLink = document.createElement('div');\n",
              "          docLink.innerHTML = docLinkHtml;\n",
              "          element.appendChild(docLink);\n",
              "        }\n",
              "      </script>\n",
              "    </div>\n",
              "  </div>\n",
              "  "
            ]
          },
          "metadata": {},
          "execution_count": 3
        }
      ]
    },
    {
      "cell_type": "code",
      "source": [
        "dataset[dataset['Price']>20]"
      ],
      "metadata": {
        "colab": {
          "base_uri": "https://localhost:8080/",
          "height": 1000
        },
        "id": "3NysUMwZiaWp",
        "outputId": "db837311-24e4-4190-da30-9b25ab583871"
      },
      "execution_count": 4,
      "outputs": [
        {
          "output_type": "execute_result",
          "data": {
            "text/plain": [
              "                                                  Name    Location  Year  \\\n",
              "13                    Land Rover Range Rover 2.2L Pure       Delhi  2014   \n",
              "19    Mercedes-Benz New C-Class C 220 CDI BE Avantgare   Bangalore  2014   \n",
              "22                Audi A6 2011-2015 35 TFSI Technology      Mumbai  2015   \n",
              "38                    Mercedes-Benz M-Class ML 350 CDI        Pune  2013   \n",
              "50                Audi A4 2.0 TDI 177 Bhp Premium Plus       Kochi  2015   \n",
              "...                                                ...         ...   ...   \n",
              "3444                  Mercedes-Benz M-Class ML 250 CDI     Kolkata  2015   \n",
              "3446                   Ford Endeavour 2.2 Trend AT 4X2        Pune  2016   \n",
              "3453                       BMW 5 Series 2003-2012 530d  Coimbatore  2016   \n",
              "3488                           Audi Q7 3.0 TDI quattro  Coimbatore  2012   \n",
              "3489                           Porsche Panamera Diesel   Bangalore  2013   \n",
              "\n",
              "      Kilometers_Driven Fuel_Type Transmission Owner_Type     Mileage  \\\n",
              "13                72000    Diesel    Automatic      First   12.7 kmpl   \n",
              "19                78500    Diesel    Automatic      First  14.84 kmpl   \n",
              "22                55985    Petrol    Automatic      First  13.53 kmpl   \n",
              "38                85000    Diesel    Automatic      First  11.74 kmpl   \n",
              "50                13648    Diesel    Automatic      First  17.11 kmpl   \n",
              "...                 ...       ...          ...        ...         ...   \n",
              "3444              58589    Diesel    Automatic      First  15.26 kmpl   \n",
              "3446              75000    Diesel    Automatic      First  12.62 kmpl   \n",
              "3453              18090    Diesel    Automatic      First   16.2 kmpl   \n",
              "3488              91743    Diesel    Automatic      First  12.07 kmpl   \n",
              "3489              19828    Diesel    Automatic     Second  17.85 kmpl   \n",
              "\n",
              "       Engine       Power  Seats New_Price  Price  \n",
              "13    2179 CC   187.7 bhp    5.0       NaN  27.00  \n",
              "19    2143 CC  167.62 bhp    5.0       NaN  28.00  \n",
              "22    1984 CC  177.01 bhp    5.0       NaN  23.50  \n",
              "38    2987 CC   254.8 bhp    5.0       NaN  28.00  \n",
              "50    1968 CC  174.33 bhp    5.0       NaN  21.43  \n",
              "...       ...         ...    ...       ...    ...  \n",
              "3444  2143 CC   203.2 bhp    5.0       NaN  27.75  \n",
              "3446  2198 CC     158 bhp    7.0       NaN  24.00  \n",
              "3453  2993 CC     258 bhp    5.0       NaN  45.73  \n",
              "3488  2967 CC   241.4 bhp    7.0       NaN  28.55  \n",
              "3489  2967 CC     300 bhp    4.0       NaN  75.00  \n",
              "\n",
              "[416 rows x 13 columns]"
            ],
            "text/html": [
              "\n",
              "  <div id=\"df-c8dcbcb3-f6d8-4456-9c03-d723d5723aaa\">\n",
              "    <div class=\"colab-df-container\">\n",
              "      <div>\n",
              "<style scoped>\n",
              "    .dataframe tbody tr th:only-of-type {\n",
              "        vertical-align: middle;\n",
              "    }\n",
              "\n",
              "    .dataframe tbody tr th {\n",
              "        vertical-align: top;\n",
              "    }\n",
              "\n",
              "    .dataframe thead th {\n",
              "        text-align: right;\n",
              "    }\n",
              "</style>\n",
              "<table border=\"1\" class=\"dataframe\">\n",
              "  <thead>\n",
              "    <tr style=\"text-align: right;\">\n",
              "      <th></th>\n",
              "      <th>Name</th>\n",
              "      <th>Location</th>\n",
              "      <th>Year</th>\n",
              "      <th>Kilometers_Driven</th>\n",
              "      <th>Fuel_Type</th>\n",
              "      <th>Transmission</th>\n",
              "      <th>Owner_Type</th>\n",
              "      <th>Mileage</th>\n",
              "      <th>Engine</th>\n",
              "      <th>Power</th>\n",
              "      <th>Seats</th>\n",
              "      <th>New_Price</th>\n",
              "      <th>Price</th>\n",
              "    </tr>\n",
              "  </thead>\n",
              "  <tbody>\n",
              "    <tr>\n",
              "      <th>13</th>\n",
              "      <td>Land Rover Range Rover 2.2L Pure</td>\n",
              "      <td>Delhi</td>\n",
              "      <td>2014</td>\n",
              "      <td>72000</td>\n",
              "      <td>Diesel</td>\n",
              "      <td>Automatic</td>\n",
              "      <td>First</td>\n",
              "      <td>12.7 kmpl</td>\n",
              "      <td>2179 CC</td>\n",
              "      <td>187.7 bhp</td>\n",
              "      <td>5.0</td>\n",
              "      <td>NaN</td>\n",
              "      <td>27.00</td>\n",
              "    </tr>\n",
              "    <tr>\n",
              "      <th>19</th>\n",
              "      <td>Mercedes-Benz New C-Class C 220 CDI BE Avantgare</td>\n",
              "      <td>Bangalore</td>\n",
              "      <td>2014</td>\n",
              "      <td>78500</td>\n",
              "      <td>Diesel</td>\n",
              "      <td>Automatic</td>\n",
              "      <td>First</td>\n",
              "      <td>14.84 kmpl</td>\n",
              "      <td>2143 CC</td>\n",
              "      <td>167.62 bhp</td>\n",
              "      <td>5.0</td>\n",
              "      <td>NaN</td>\n",
              "      <td>28.00</td>\n",
              "    </tr>\n",
              "    <tr>\n",
              "      <th>22</th>\n",
              "      <td>Audi A6 2011-2015 35 TFSI Technology</td>\n",
              "      <td>Mumbai</td>\n",
              "      <td>2015</td>\n",
              "      <td>55985</td>\n",
              "      <td>Petrol</td>\n",
              "      <td>Automatic</td>\n",
              "      <td>First</td>\n",
              "      <td>13.53 kmpl</td>\n",
              "      <td>1984 CC</td>\n",
              "      <td>177.01 bhp</td>\n",
              "      <td>5.0</td>\n",
              "      <td>NaN</td>\n",
              "      <td>23.50</td>\n",
              "    </tr>\n",
              "    <tr>\n",
              "      <th>38</th>\n",
              "      <td>Mercedes-Benz M-Class ML 350 CDI</td>\n",
              "      <td>Pune</td>\n",
              "      <td>2013</td>\n",
              "      <td>85000</td>\n",
              "      <td>Diesel</td>\n",
              "      <td>Automatic</td>\n",
              "      <td>First</td>\n",
              "      <td>11.74 kmpl</td>\n",
              "      <td>2987 CC</td>\n",
              "      <td>254.8 bhp</td>\n",
              "      <td>5.0</td>\n",
              "      <td>NaN</td>\n",
              "      <td>28.00</td>\n",
              "    </tr>\n",
              "    <tr>\n",
              "      <th>50</th>\n",
              "      <td>Audi A4 2.0 TDI 177 Bhp Premium Plus</td>\n",
              "      <td>Kochi</td>\n",
              "      <td>2015</td>\n",
              "      <td>13648</td>\n",
              "      <td>Diesel</td>\n",
              "      <td>Automatic</td>\n",
              "      <td>First</td>\n",
              "      <td>17.11 kmpl</td>\n",
              "      <td>1968 CC</td>\n",
              "      <td>174.33 bhp</td>\n",
              "      <td>5.0</td>\n",
              "      <td>NaN</td>\n",
              "      <td>21.43</td>\n",
              "    </tr>\n",
              "    <tr>\n",
              "      <th>...</th>\n",
              "      <td>...</td>\n",
              "      <td>...</td>\n",
              "      <td>...</td>\n",
              "      <td>...</td>\n",
              "      <td>...</td>\n",
              "      <td>...</td>\n",
              "      <td>...</td>\n",
              "      <td>...</td>\n",
              "      <td>...</td>\n",
              "      <td>...</td>\n",
              "      <td>...</td>\n",
              "      <td>...</td>\n",
              "      <td>...</td>\n",
              "    </tr>\n",
              "    <tr>\n",
              "      <th>3444</th>\n",
              "      <td>Mercedes-Benz M-Class ML 250 CDI</td>\n",
              "      <td>Kolkata</td>\n",
              "      <td>2015</td>\n",
              "      <td>58589</td>\n",
              "      <td>Diesel</td>\n",
              "      <td>Automatic</td>\n",
              "      <td>First</td>\n",
              "      <td>15.26 kmpl</td>\n",
              "      <td>2143 CC</td>\n",
              "      <td>203.2 bhp</td>\n",
              "      <td>5.0</td>\n",
              "      <td>NaN</td>\n",
              "      <td>27.75</td>\n",
              "    </tr>\n",
              "    <tr>\n",
              "      <th>3446</th>\n",
              "      <td>Ford Endeavour 2.2 Trend AT 4X2</td>\n",
              "      <td>Pune</td>\n",
              "      <td>2016</td>\n",
              "      <td>75000</td>\n",
              "      <td>Diesel</td>\n",
              "      <td>Automatic</td>\n",
              "      <td>First</td>\n",
              "      <td>12.62 kmpl</td>\n",
              "      <td>2198 CC</td>\n",
              "      <td>158 bhp</td>\n",
              "      <td>7.0</td>\n",
              "      <td>NaN</td>\n",
              "      <td>24.00</td>\n",
              "    </tr>\n",
              "    <tr>\n",
              "      <th>3453</th>\n",
              "      <td>BMW 5 Series 2003-2012 530d</td>\n",
              "      <td>Coimbatore</td>\n",
              "      <td>2016</td>\n",
              "      <td>18090</td>\n",
              "      <td>Diesel</td>\n",
              "      <td>Automatic</td>\n",
              "      <td>First</td>\n",
              "      <td>16.2 kmpl</td>\n",
              "      <td>2993 CC</td>\n",
              "      <td>258 bhp</td>\n",
              "      <td>5.0</td>\n",
              "      <td>NaN</td>\n",
              "      <td>45.73</td>\n",
              "    </tr>\n",
              "    <tr>\n",
              "      <th>3488</th>\n",
              "      <td>Audi Q7 3.0 TDI quattro</td>\n",
              "      <td>Coimbatore</td>\n",
              "      <td>2012</td>\n",
              "      <td>91743</td>\n",
              "      <td>Diesel</td>\n",
              "      <td>Automatic</td>\n",
              "      <td>First</td>\n",
              "      <td>12.07 kmpl</td>\n",
              "      <td>2967 CC</td>\n",
              "      <td>241.4 bhp</td>\n",
              "      <td>7.0</td>\n",
              "      <td>NaN</td>\n",
              "      <td>28.55</td>\n",
              "    </tr>\n",
              "    <tr>\n",
              "      <th>3489</th>\n",
              "      <td>Porsche Panamera Diesel</td>\n",
              "      <td>Bangalore</td>\n",
              "      <td>2013</td>\n",
              "      <td>19828</td>\n",
              "      <td>Diesel</td>\n",
              "      <td>Automatic</td>\n",
              "      <td>Second</td>\n",
              "      <td>17.85 kmpl</td>\n",
              "      <td>2967 CC</td>\n",
              "      <td>300 bhp</td>\n",
              "      <td>4.0</td>\n",
              "      <td>NaN</td>\n",
              "      <td>75.00</td>\n",
              "    </tr>\n",
              "  </tbody>\n",
              "</table>\n",
              "<p>416 rows × 13 columns</p>\n",
              "</div>\n",
              "      <button class=\"colab-df-convert\" onclick=\"convertToInteractive('df-c8dcbcb3-f6d8-4456-9c03-d723d5723aaa')\"\n",
              "              title=\"Convert this dataframe to an interactive table.\"\n",
              "              style=\"display:none;\">\n",
              "        \n",
              "  <svg xmlns=\"http://www.w3.org/2000/svg\" height=\"24px\"viewBox=\"0 0 24 24\"\n",
              "       width=\"24px\">\n",
              "    <path d=\"M0 0h24v24H0V0z\" fill=\"none\"/>\n",
              "    <path d=\"M18.56 5.44l.94 2.06.94-2.06 2.06-.94-2.06-.94-.94-2.06-.94 2.06-2.06.94zm-11 1L8.5 8.5l.94-2.06 2.06-.94-2.06-.94L8.5 2.5l-.94 2.06-2.06.94zm10 10l.94 2.06.94-2.06 2.06-.94-2.06-.94-.94-2.06-.94 2.06-2.06.94z\"/><path d=\"M17.41 7.96l-1.37-1.37c-.4-.4-.92-.59-1.43-.59-.52 0-1.04.2-1.43.59L10.3 9.45l-7.72 7.72c-.78.78-.78 2.05 0 2.83L4 21.41c.39.39.9.59 1.41.59.51 0 1.02-.2 1.41-.59l7.78-7.78 2.81-2.81c.8-.78.8-2.07 0-2.86zM5.41 20L4 18.59l7.72-7.72 1.47 1.35L5.41 20z\"/>\n",
              "  </svg>\n",
              "      </button>\n",
              "      \n",
              "  <style>\n",
              "    .colab-df-container {\n",
              "      display:flex;\n",
              "      flex-wrap:wrap;\n",
              "      gap: 12px;\n",
              "    }\n",
              "\n",
              "    .colab-df-convert {\n",
              "      background-color: #E8F0FE;\n",
              "      border: none;\n",
              "      border-radius: 50%;\n",
              "      cursor: pointer;\n",
              "      display: none;\n",
              "      fill: #1967D2;\n",
              "      height: 32px;\n",
              "      padding: 0 0 0 0;\n",
              "      width: 32px;\n",
              "    }\n",
              "\n",
              "    .colab-df-convert:hover {\n",
              "      background-color: #E2EBFA;\n",
              "      box-shadow: 0px 1px 2px rgba(60, 64, 67, 0.3), 0px 1px 3px 1px rgba(60, 64, 67, 0.15);\n",
              "      fill: #174EA6;\n",
              "    }\n",
              "\n",
              "    [theme=dark] .colab-df-convert {\n",
              "      background-color: #3B4455;\n",
              "      fill: #D2E3FC;\n",
              "    }\n",
              "\n",
              "    [theme=dark] .colab-df-convert:hover {\n",
              "      background-color: #434B5C;\n",
              "      box-shadow: 0px 1px 3px 1px rgba(0, 0, 0, 0.15);\n",
              "      filter: drop-shadow(0px 1px 2px rgba(0, 0, 0, 0.3));\n",
              "      fill: #FFFFFF;\n",
              "    }\n",
              "  </style>\n",
              "\n",
              "      <script>\n",
              "        const buttonEl =\n",
              "          document.querySelector('#df-c8dcbcb3-f6d8-4456-9c03-d723d5723aaa button.colab-df-convert');\n",
              "        buttonEl.style.display =\n",
              "          google.colab.kernel.accessAllowed ? 'block' : 'none';\n",
              "\n",
              "        async function convertToInteractive(key) {\n",
              "          const element = document.querySelector('#df-c8dcbcb3-f6d8-4456-9c03-d723d5723aaa');\n",
              "          const dataTable =\n",
              "            await google.colab.kernel.invokeFunction('convertToInteractive',\n",
              "                                                     [key], {});\n",
              "          if (!dataTable) return;\n",
              "\n",
              "          const docLinkHtml = 'Like what you see? Visit the ' +\n",
              "            '<a target=\"_blank\" href=https://colab.research.google.com/notebooks/data_table.ipynb>data table notebook</a>'\n",
              "            + ' to learn more about interactive tables.';\n",
              "          element.innerHTML = '';\n",
              "          dataTable['output_type'] = 'display_data';\n",
              "          await google.colab.output.renderOutput(dataTable, element);\n",
              "          const docLink = document.createElement('div');\n",
              "          docLink.innerHTML = docLinkHtml;\n",
              "          element.appendChild(docLink);\n",
              "        }\n",
              "      </script>\n",
              "    </div>\n",
              "  </div>\n",
              "  "
            ]
          },
          "metadata": {},
          "execution_count": 4
        }
      ]
    },
    {
      "cell_type": "code",
      "source": [
        "dataset=dataset[dataset['Price']<=20]"
      ],
      "metadata": {
        "id": "o1Qbwu1qihX5"
      },
      "execution_count": 5,
      "outputs": []
    },
    {
      "cell_type": "code",
      "source": [
        "dataset.describe()"
      ],
      "metadata": {
        "colab": {
          "base_uri": "https://localhost:8080/",
          "height": 300
        },
        "id": "itItYBQgimRp",
        "outputId": "f770492a-d645-472d-ff77-424788eddca5"
      },
      "execution_count": 6,
      "outputs": [
        {
          "output_type": "execute_result",
          "data": {
            "text/plain": [
              "              Year  Kilometers_Driven        Seats        Price\n",
              "count  3083.000000        3083.000000  3060.000000  3083.000000\n",
              "mean   2013.116769       60183.958806     5.292810     6.165806\n",
              "std       3.260383       41391.540060     0.798749     4.133622\n",
              "min    1998.000000         171.000000     2.000000     0.440000\n",
              "25%    2011.000000       36000.000000     5.000000     3.250000\n",
              "50%    2014.000000       55000.000000     5.000000     5.000000\n",
              "75%    2016.000000       75000.000000     5.000000     7.750000\n",
              "max    2019.000000      775000.000000    10.000000    20.000000"
            ],
            "text/html": [
              "\n",
              "  <div id=\"df-516e88e9-8a11-4155-b871-cb253ab3dfa3\">\n",
              "    <div class=\"colab-df-container\">\n",
              "      <div>\n",
              "<style scoped>\n",
              "    .dataframe tbody tr th:only-of-type {\n",
              "        vertical-align: middle;\n",
              "    }\n",
              "\n",
              "    .dataframe tbody tr th {\n",
              "        vertical-align: top;\n",
              "    }\n",
              "\n",
              "    .dataframe thead th {\n",
              "        text-align: right;\n",
              "    }\n",
              "</style>\n",
              "<table border=\"1\" class=\"dataframe\">\n",
              "  <thead>\n",
              "    <tr style=\"text-align: right;\">\n",
              "      <th></th>\n",
              "      <th>Year</th>\n",
              "      <th>Kilometers_Driven</th>\n",
              "      <th>Seats</th>\n",
              "      <th>Price</th>\n",
              "    </tr>\n",
              "  </thead>\n",
              "  <tbody>\n",
              "    <tr>\n",
              "      <th>count</th>\n",
              "      <td>3083.000000</td>\n",
              "      <td>3083.000000</td>\n",
              "      <td>3060.000000</td>\n",
              "      <td>3083.000000</td>\n",
              "    </tr>\n",
              "    <tr>\n",
              "      <th>mean</th>\n",
              "      <td>2013.116769</td>\n",
              "      <td>60183.958806</td>\n",
              "      <td>5.292810</td>\n",
              "      <td>6.165806</td>\n",
              "    </tr>\n",
              "    <tr>\n",
              "      <th>std</th>\n",
              "      <td>3.260383</td>\n",
              "      <td>41391.540060</td>\n",
              "      <td>0.798749</td>\n",
              "      <td>4.133622</td>\n",
              "    </tr>\n",
              "    <tr>\n",
              "      <th>min</th>\n",
              "      <td>1998.000000</td>\n",
              "      <td>171.000000</td>\n",
              "      <td>2.000000</td>\n",
              "      <td>0.440000</td>\n",
              "    </tr>\n",
              "    <tr>\n",
              "      <th>25%</th>\n",
              "      <td>2011.000000</td>\n",
              "      <td>36000.000000</td>\n",
              "      <td>5.000000</td>\n",
              "      <td>3.250000</td>\n",
              "    </tr>\n",
              "    <tr>\n",
              "      <th>50%</th>\n",
              "      <td>2014.000000</td>\n",
              "      <td>55000.000000</td>\n",
              "      <td>5.000000</td>\n",
              "      <td>5.000000</td>\n",
              "    </tr>\n",
              "    <tr>\n",
              "      <th>75%</th>\n",
              "      <td>2016.000000</td>\n",
              "      <td>75000.000000</td>\n",
              "      <td>5.000000</td>\n",
              "      <td>7.750000</td>\n",
              "    </tr>\n",
              "    <tr>\n",
              "      <th>max</th>\n",
              "      <td>2019.000000</td>\n",
              "      <td>775000.000000</td>\n",
              "      <td>10.000000</td>\n",
              "      <td>20.000000</td>\n",
              "    </tr>\n",
              "  </tbody>\n",
              "</table>\n",
              "</div>\n",
              "      <button class=\"colab-df-convert\" onclick=\"convertToInteractive('df-516e88e9-8a11-4155-b871-cb253ab3dfa3')\"\n",
              "              title=\"Convert this dataframe to an interactive table.\"\n",
              "              style=\"display:none;\">\n",
              "        \n",
              "  <svg xmlns=\"http://www.w3.org/2000/svg\" height=\"24px\"viewBox=\"0 0 24 24\"\n",
              "       width=\"24px\">\n",
              "    <path d=\"M0 0h24v24H0V0z\" fill=\"none\"/>\n",
              "    <path d=\"M18.56 5.44l.94 2.06.94-2.06 2.06-.94-2.06-.94-.94-2.06-.94 2.06-2.06.94zm-11 1L8.5 8.5l.94-2.06 2.06-.94-2.06-.94L8.5 2.5l-.94 2.06-2.06.94zm10 10l.94 2.06.94-2.06 2.06-.94-2.06-.94-.94-2.06-.94 2.06-2.06.94z\"/><path d=\"M17.41 7.96l-1.37-1.37c-.4-.4-.92-.59-1.43-.59-.52 0-1.04.2-1.43.59L10.3 9.45l-7.72 7.72c-.78.78-.78 2.05 0 2.83L4 21.41c.39.39.9.59 1.41.59.51 0 1.02-.2 1.41-.59l7.78-7.78 2.81-2.81c.8-.78.8-2.07 0-2.86zM5.41 20L4 18.59l7.72-7.72 1.47 1.35L5.41 20z\"/>\n",
              "  </svg>\n",
              "      </button>\n",
              "      \n",
              "  <style>\n",
              "    .colab-df-container {\n",
              "      display:flex;\n",
              "      flex-wrap:wrap;\n",
              "      gap: 12px;\n",
              "    }\n",
              "\n",
              "    .colab-df-convert {\n",
              "      background-color: #E8F0FE;\n",
              "      border: none;\n",
              "      border-radius: 50%;\n",
              "      cursor: pointer;\n",
              "      display: none;\n",
              "      fill: #1967D2;\n",
              "      height: 32px;\n",
              "      padding: 0 0 0 0;\n",
              "      width: 32px;\n",
              "    }\n",
              "\n",
              "    .colab-df-convert:hover {\n",
              "      background-color: #E2EBFA;\n",
              "      box-shadow: 0px 1px 2px rgba(60, 64, 67, 0.3), 0px 1px 3px 1px rgba(60, 64, 67, 0.15);\n",
              "      fill: #174EA6;\n",
              "    }\n",
              "\n",
              "    [theme=dark] .colab-df-convert {\n",
              "      background-color: #3B4455;\n",
              "      fill: #D2E3FC;\n",
              "    }\n",
              "\n",
              "    [theme=dark] .colab-df-convert:hover {\n",
              "      background-color: #434B5C;\n",
              "      box-shadow: 0px 1px 3px 1px rgba(0, 0, 0, 0.15);\n",
              "      filter: drop-shadow(0px 1px 2px rgba(0, 0, 0, 0.3));\n",
              "      fill: #FFFFFF;\n",
              "    }\n",
              "  </style>\n",
              "\n",
              "      <script>\n",
              "        const buttonEl =\n",
              "          document.querySelector('#df-516e88e9-8a11-4155-b871-cb253ab3dfa3 button.colab-df-convert');\n",
              "        buttonEl.style.display =\n",
              "          google.colab.kernel.accessAllowed ? 'block' : 'none';\n",
              "\n",
              "        async function convertToInteractive(key) {\n",
              "          const element = document.querySelector('#df-516e88e9-8a11-4155-b871-cb253ab3dfa3');\n",
              "          const dataTable =\n",
              "            await google.colab.kernel.invokeFunction('convertToInteractive',\n",
              "                                                     [key], {});\n",
              "          if (!dataTable) return;\n",
              "\n",
              "          const docLinkHtml = 'Like what you see? Visit the ' +\n",
              "            '<a target=\"_blank\" href=https://colab.research.google.com/notebooks/data_table.ipynb>data table notebook</a>'\n",
              "            + ' to learn more about interactive tables.';\n",
              "          element.innerHTML = '';\n",
              "          dataTable['output_type'] = 'display_data';\n",
              "          await google.colab.output.renderOutput(dataTable, element);\n",
              "          const docLink = document.createElement('div');\n",
              "          docLink.innerHTML = docLinkHtml;\n",
              "          element.appendChild(docLink);\n",
              "        }\n",
              "      </script>\n",
              "    </div>\n",
              "  </div>\n",
              "  "
            ]
          },
          "metadata": {},
          "execution_count": 6
        }
      ]
    },
    {
      "cell_type": "markdown",
      "metadata": {
        "id": "YxlFQNJrdt0-"
      },
      "source": [
        "Let's first split the dataset into train and test datasets."
      ]
    },
    {
      "cell_type": "code",
      "source": [
        "X_train=dataset.iloc[:,:-1]"
      ],
      "metadata": {
        "id": "PfpkjW31h0Fg"
      },
      "execution_count": 7,
      "outputs": []
    },
    {
      "cell_type": "code",
      "source": [
        "y_train=dataset.iloc[:,-1]"
      ],
      "metadata": {
        "id": "_WnXiPXjh8Mc"
      },
      "execution_count": 8,
      "outputs": []
    },
    {
      "cell_type": "code",
      "source": [
        "X_train.info()"
      ],
      "metadata": {
        "colab": {
          "base_uri": "https://localhost:8080/"
        },
        "id": "_Ujfspj8hu5U",
        "outputId": "f3824b62-8b05-4dac-af16-a9980575dd1a"
      },
      "execution_count": 9,
      "outputs": [
        {
          "output_type": "stream",
          "name": "stdout",
          "text": [
            "<class 'pandas.core.frame.DataFrame'>\n",
            "Int64Index: 3083 entries, 0 to 3498\n",
            "Data columns (total 12 columns):\n",
            " #   Column             Non-Null Count  Dtype  \n",
            "---  ------             --------------  -----  \n",
            " 0   Name               3083 non-null   object \n",
            " 1   Location           3083 non-null   object \n",
            " 2   Year               3083 non-null   int64  \n",
            " 3   Kilometers_Driven  3083 non-null   int64  \n",
            " 4   Fuel_Type          3083 non-null   object \n",
            " 5   Transmission       3083 non-null   object \n",
            " 6   Owner_Type         3083 non-null   object \n",
            " 7   Mileage            3083 non-null   object \n",
            " 8   Engine             3063 non-null   object \n",
            " 9   Power              3063 non-null   object \n",
            " 10  Seats              3060 non-null   float64\n",
            " 11  New_Price          377 non-null    object \n",
            "dtypes: float64(1), int64(2), object(9)\n",
            "memory usage: 313.1+ KB\n"
          ]
        }
      ]
    },
    {
      "cell_type": "code",
      "source": [
        "y_train.info()"
      ],
      "metadata": {
        "colab": {
          "base_uri": "https://localhost:8080/"
        },
        "id": "Vo2B7MHriCab",
        "outputId": "870b36b7-aea4-4a0e-e981-c3932dd01f17"
      },
      "execution_count": 10,
      "outputs": [
        {
          "output_type": "stream",
          "name": "stdout",
          "text": [
            "<class 'pandas.core.series.Series'>\n",
            "Int64Index: 3083 entries, 0 to 3498\n",
            "Series name: Price\n",
            "Non-Null Count  Dtype  \n",
            "--------------  -----  \n",
            "3083 non-null   float64\n",
            "dtypes: float64(1)\n",
            "memory usage: 48.2 KB\n"
          ]
        }
      ]
    },
    {
      "cell_type": "code",
      "source": [
        "test_dataset = pd.read_csv(\"test_data.csv\")\n",
        "test_dataset.head(5)"
      ],
      "metadata": {
        "colab": {
          "base_uri": "https://localhost:8080/",
          "height": 496
        },
        "id": "tgZhF475iWVT",
        "outputId": "22818838-7998-4ba2-eee5-3beeecd94a47"
      },
      "execution_count": 11,
      "outputs": [
        {
          "output_type": "execute_result",
          "data": {
            "text/plain": [
              "                              Name   Location  Year  Kilometers_Driven  \\\n",
              "0           Mahindra XUV500 W6 2WD      Kochi  2017              41290   \n",
              "1    BMW 5 Series 520d Luxury Line      Delhi  2013              65000   \n",
              "2       Toyota Corolla Altis 1.8 G  Bangalore  2016              16471   \n",
              "3        Hyundai i20 Asta 1.4 CRDi       Pune  2015              54339   \n",
              "4  Mahindra KUV 100 mFALCON G80 K2  Hyderabad  2016              24025   \n",
              "\n",
              "  Fuel_Type Transmission Owner_Type     Mileage   Engine       Power  Seats  \\\n",
              "0    Diesel       Manual     Second   16.0 kmpl  2179 CC     140 bhp    7.0   \n",
              "1    Diesel    Automatic      First  22.48 kmpl  1995 CC     190 bhp    5.0   \n",
              "2    Petrol       Manual     Second  14.28 kmpl  1798 CC  138.03 bhp    5.0   \n",
              "3    Diesel       Manual     Second  22.54 kmpl  1396 CC   88.73 bhp    5.0   \n",
              "4    Petrol       Manual      First  18.15 kmpl  1198 CC      82 bhp    6.0   \n",
              "\n",
              "    New_Price  Price  \n",
              "0         NaN  10.94  \n",
              "1  67.87 Lakh  21.26  \n",
              "2  20.48 Lakh  11.50  \n",
              "3         NaN   6.00  \n",
              "4         NaN   4.10  "
            ],
            "text/html": [
              "\n",
              "  <div id=\"df-58ead873-fa36-438e-adb0-475353e66c69\">\n",
              "    <div class=\"colab-df-container\">\n",
              "      <div>\n",
              "<style scoped>\n",
              "    .dataframe tbody tr th:only-of-type {\n",
              "        vertical-align: middle;\n",
              "    }\n",
              "\n",
              "    .dataframe tbody tr th {\n",
              "        vertical-align: top;\n",
              "    }\n",
              "\n",
              "    .dataframe thead th {\n",
              "        text-align: right;\n",
              "    }\n",
              "</style>\n",
              "<table border=\"1\" class=\"dataframe\">\n",
              "  <thead>\n",
              "    <tr style=\"text-align: right;\">\n",
              "      <th></th>\n",
              "      <th>Name</th>\n",
              "      <th>Location</th>\n",
              "      <th>Year</th>\n",
              "      <th>Kilometers_Driven</th>\n",
              "      <th>Fuel_Type</th>\n",
              "      <th>Transmission</th>\n",
              "      <th>Owner_Type</th>\n",
              "      <th>Mileage</th>\n",
              "      <th>Engine</th>\n",
              "      <th>Power</th>\n",
              "      <th>Seats</th>\n",
              "      <th>New_Price</th>\n",
              "      <th>Price</th>\n",
              "    </tr>\n",
              "  </thead>\n",
              "  <tbody>\n",
              "    <tr>\n",
              "      <th>0</th>\n",
              "      <td>Mahindra XUV500 W6 2WD</td>\n",
              "      <td>Kochi</td>\n",
              "      <td>2017</td>\n",
              "      <td>41290</td>\n",
              "      <td>Diesel</td>\n",
              "      <td>Manual</td>\n",
              "      <td>Second</td>\n",
              "      <td>16.0 kmpl</td>\n",
              "      <td>2179 CC</td>\n",
              "      <td>140 bhp</td>\n",
              "      <td>7.0</td>\n",
              "      <td>NaN</td>\n",
              "      <td>10.94</td>\n",
              "    </tr>\n",
              "    <tr>\n",
              "      <th>1</th>\n",
              "      <td>BMW 5 Series 520d Luxury Line</td>\n",
              "      <td>Delhi</td>\n",
              "      <td>2013</td>\n",
              "      <td>65000</td>\n",
              "      <td>Diesel</td>\n",
              "      <td>Automatic</td>\n",
              "      <td>First</td>\n",
              "      <td>22.48 kmpl</td>\n",
              "      <td>1995 CC</td>\n",
              "      <td>190 bhp</td>\n",
              "      <td>5.0</td>\n",
              "      <td>67.87 Lakh</td>\n",
              "      <td>21.26</td>\n",
              "    </tr>\n",
              "    <tr>\n",
              "      <th>2</th>\n",
              "      <td>Toyota Corolla Altis 1.8 G</td>\n",
              "      <td>Bangalore</td>\n",
              "      <td>2016</td>\n",
              "      <td>16471</td>\n",
              "      <td>Petrol</td>\n",
              "      <td>Manual</td>\n",
              "      <td>Second</td>\n",
              "      <td>14.28 kmpl</td>\n",
              "      <td>1798 CC</td>\n",
              "      <td>138.03 bhp</td>\n",
              "      <td>5.0</td>\n",
              "      <td>20.48 Lakh</td>\n",
              "      <td>11.50</td>\n",
              "    </tr>\n",
              "    <tr>\n",
              "      <th>3</th>\n",
              "      <td>Hyundai i20 Asta 1.4 CRDi</td>\n",
              "      <td>Pune</td>\n",
              "      <td>2015</td>\n",
              "      <td>54339</td>\n",
              "      <td>Diesel</td>\n",
              "      <td>Manual</td>\n",
              "      <td>Second</td>\n",
              "      <td>22.54 kmpl</td>\n",
              "      <td>1396 CC</td>\n",
              "      <td>88.73 bhp</td>\n",
              "      <td>5.0</td>\n",
              "      <td>NaN</td>\n",
              "      <td>6.00</td>\n",
              "    </tr>\n",
              "    <tr>\n",
              "      <th>4</th>\n",
              "      <td>Mahindra KUV 100 mFALCON G80 K2</td>\n",
              "      <td>Hyderabad</td>\n",
              "      <td>2016</td>\n",
              "      <td>24025</td>\n",
              "      <td>Petrol</td>\n",
              "      <td>Manual</td>\n",
              "      <td>First</td>\n",
              "      <td>18.15 kmpl</td>\n",
              "      <td>1198 CC</td>\n",
              "      <td>82 bhp</td>\n",
              "      <td>6.0</td>\n",
              "      <td>NaN</td>\n",
              "      <td>4.10</td>\n",
              "    </tr>\n",
              "  </tbody>\n",
              "</table>\n",
              "</div>\n",
              "      <button class=\"colab-df-convert\" onclick=\"convertToInteractive('df-58ead873-fa36-438e-adb0-475353e66c69')\"\n",
              "              title=\"Convert this dataframe to an interactive table.\"\n",
              "              style=\"display:none;\">\n",
              "        \n",
              "  <svg xmlns=\"http://www.w3.org/2000/svg\" height=\"24px\"viewBox=\"0 0 24 24\"\n",
              "       width=\"24px\">\n",
              "    <path d=\"M0 0h24v24H0V0z\" fill=\"none\"/>\n",
              "    <path d=\"M18.56 5.44l.94 2.06.94-2.06 2.06-.94-2.06-.94-.94-2.06-.94 2.06-2.06.94zm-11 1L8.5 8.5l.94-2.06 2.06-.94-2.06-.94L8.5 2.5l-.94 2.06-2.06.94zm10 10l.94 2.06.94-2.06 2.06-.94-2.06-.94-.94-2.06-.94 2.06-2.06.94z\"/><path d=\"M17.41 7.96l-1.37-1.37c-.4-.4-.92-.59-1.43-.59-.52 0-1.04.2-1.43.59L10.3 9.45l-7.72 7.72c-.78.78-.78 2.05 0 2.83L4 21.41c.39.39.9.59 1.41.59.51 0 1.02-.2 1.41-.59l7.78-7.78 2.81-2.81c.8-.78.8-2.07 0-2.86zM5.41 20L4 18.59l7.72-7.72 1.47 1.35L5.41 20z\"/>\n",
              "  </svg>\n",
              "      </button>\n",
              "      \n",
              "  <style>\n",
              "    .colab-df-container {\n",
              "      display:flex;\n",
              "      flex-wrap:wrap;\n",
              "      gap: 12px;\n",
              "    }\n",
              "\n",
              "    .colab-df-convert {\n",
              "      background-color: #E8F0FE;\n",
              "      border: none;\n",
              "      border-radius: 50%;\n",
              "      cursor: pointer;\n",
              "      display: none;\n",
              "      fill: #1967D2;\n",
              "      height: 32px;\n",
              "      padding: 0 0 0 0;\n",
              "      width: 32px;\n",
              "    }\n",
              "\n",
              "    .colab-df-convert:hover {\n",
              "      background-color: #E2EBFA;\n",
              "      box-shadow: 0px 1px 2px rgba(60, 64, 67, 0.3), 0px 1px 3px 1px rgba(60, 64, 67, 0.15);\n",
              "      fill: #174EA6;\n",
              "    }\n",
              "\n",
              "    [theme=dark] .colab-df-convert {\n",
              "      background-color: #3B4455;\n",
              "      fill: #D2E3FC;\n",
              "    }\n",
              "\n",
              "    [theme=dark] .colab-df-convert:hover {\n",
              "      background-color: #434B5C;\n",
              "      box-shadow: 0px 1px 3px 1px rgba(0, 0, 0, 0.15);\n",
              "      filter: drop-shadow(0px 1px 2px rgba(0, 0, 0, 0.3));\n",
              "      fill: #FFFFFF;\n",
              "    }\n",
              "  </style>\n",
              "\n",
              "      <script>\n",
              "        const buttonEl =\n",
              "          document.querySelector('#df-58ead873-fa36-438e-adb0-475353e66c69 button.colab-df-convert');\n",
              "        buttonEl.style.display =\n",
              "          google.colab.kernel.accessAllowed ? 'block' : 'none';\n",
              "\n",
              "        async function convertToInteractive(key) {\n",
              "          const element = document.querySelector('#df-58ead873-fa36-438e-adb0-475353e66c69');\n",
              "          const dataTable =\n",
              "            await google.colab.kernel.invokeFunction('convertToInteractive',\n",
              "                                                     [key], {});\n",
              "          if (!dataTable) return;\n",
              "\n",
              "          const docLinkHtml = 'Like what you see? Visit the ' +\n",
              "            '<a target=\"_blank\" href=https://colab.research.google.com/notebooks/data_table.ipynb>data table notebook</a>'\n",
              "            + ' to learn more about interactive tables.';\n",
              "          element.innerHTML = '';\n",
              "          dataTable['output_type'] = 'display_data';\n",
              "          await google.colab.output.renderOutput(dataTable, element);\n",
              "          const docLink = document.createElement('div');\n",
              "          docLink.innerHTML = docLinkHtml;\n",
              "          element.appendChild(docLink);\n",
              "        }\n",
              "      </script>\n",
              "    </div>\n",
              "  </div>\n",
              "  "
            ]
          },
          "metadata": {},
          "execution_count": 11
        }
      ]
    },
    {
      "cell_type": "code",
      "source": [
        "test_dataset.describe()"
      ],
      "metadata": {
        "colab": {
          "base_uri": "https://localhost:8080/",
          "height": 300
        },
        "id": "bsmGahbfi0AJ",
        "outputId": "2ad03549-58be-4fa6-813d-a4f6b7219545"
      },
      "execution_count": 12,
      "outputs": [
        {
          "output_type": "execute_result",
          "data": {
            "text/plain": [
              "              Year  Kilometers_Driven        Seats        Price\n",
              "count  2520.000000        2520.000000  2503.000000  2520.000000\n",
              "mean   2013.336508       57272.380556     5.261286     9.304825\n",
              "std       3.333319       34435.786887     0.785846    11.100846\n",
              "min    1998.000000         600.000000     0.000000     0.510000\n",
              "25%    2011.000000       33704.250000     5.000000     3.500000\n",
              "50%    2014.000000       53000.000000     5.000000     5.575000\n",
              "75%    2016.000000       72391.750000     5.000000     9.750000\n",
              "max    2019.000000      445000.000000     8.000000   160.000000"
            ],
            "text/html": [
              "\n",
              "  <div id=\"df-4539712c-e5d0-4ecf-b147-91adf1f1b97a\">\n",
              "    <div class=\"colab-df-container\">\n",
              "      <div>\n",
              "<style scoped>\n",
              "    .dataframe tbody tr th:only-of-type {\n",
              "        vertical-align: middle;\n",
              "    }\n",
              "\n",
              "    .dataframe tbody tr th {\n",
              "        vertical-align: top;\n",
              "    }\n",
              "\n",
              "    .dataframe thead th {\n",
              "        text-align: right;\n",
              "    }\n",
              "</style>\n",
              "<table border=\"1\" class=\"dataframe\">\n",
              "  <thead>\n",
              "    <tr style=\"text-align: right;\">\n",
              "      <th></th>\n",
              "      <th>Year</th>\n",
              "      <th>Kilometers_Driven</th>\n",
              "      <th>Seats</th>\n",
              "      <th>Price</th>\n",
              "    </tr>\n",
              "  </thead>\n",
              "  <tbody>\n",
              "    <tr>\n",
              "      <th>count</th>\n",
              "      <td>2520.000000</td>\n",
              "      <td>2520.000000</td>\n",
              "      <td>2503.000000</td>\n",
              "      <td>2520.000000</td>\n",
              "    </tr>\n",
              "    <tr>\n",
              "      <th>mean</th>\n",
              "      <td>2013.336508</td>\n",
              "      <td>57272.380556</td>\n",
              "      <td>5.261286</td>\n",
              "      <td>9.304825</td>\n",
              "    </tr>\n",
              "    <tr>\n",
              "      <th>std</th>\n",
              "      <td>3.333319</td>\n",
              "      <td>34435.786887</td>\n",
              "      <td>0.785846</td>\n",
              "      <td>11.100846</td>\n",
              "    </tr>\n",
              "    <tr>\n",
              "      <th>min</th>\n",
              "      <td>1998.000000</td>\n",
              "      <td>600.000000</td>\n",
              "      <td>0.000000</td>\n",
              "      <td>0.510000</td>\n",
              "    </tr>\n",
              "    <tr>\n",
              "      <th>25%</th>\n",
              "      <td>2011.000000</td>\n",
              "      <td>33704.250000</td>\n",
              "      <td>5.000000</td>\n",
              "      <td>3.500000</td>\n",
              "    </tr>\n",
              "    <tr>\n",
              "      <th>50%</th>\n",
              "      <td>2014.000000</td>\n",
              "      <td>53000.000000</td>\n",
              "      <td>5.000000</td>\n",
              "      <td>5.575000</td>\n",
              "    </tr>\n",
              "    <tr>\n",
              "      <th>75%</th>\n",
              "      <td>2016.000000</td>\n",
              "      <td>72391.750000</td>\n",
              "      <td>5.000000</td>\n",
              "      <td>9.750000</td>\n",
              "    </tr>\n",
              "    <tr>\n",
              "      <th>max</th>\n",
              "      <td>2019.000000</td>\n",
              "      <td>445000.000000</td>\n",
              "      <td>8.000000</td>\n",
              "      <td>160.000000</td>\n",
              "    </tr>\n",
              "  </tbody>\n",
              "</table>\n",
              "</div>\n",
              "      <button class=\"colab-df-convert\" onclick=\"convertToInteractive('df-4539712c-e5d0-4ecf-b147-91adf1f1b97a')\"\n",
              "              title=\"Convert this dataframe to an interactive table.\"\n",
              "              style=\"display:none;\">\n",
              "        \n",
              "  <svg xmlns=\"http://www.w3.org/2000/svg\" height=\"24px\"viewBox=\"0 0 24 24\"\n",
              "       width=\"24px\">\n",
              "    <path d=\"M0 0h24v24H0V0z\" fill=\"none\"/>\n",
              "    <path d=\"M18.56 5.44l.94 2.06.94-2.06 2.06-.94-2.06-.94-.94-2.06-.94 2.06-2.06.94zm-11 1L8.5 8.5l.94-2.06 2.06-.94-2.06-.94L8.5 2.5l-.94 2.06-2.06.94zm10 10l.94 2.06.94-2.06 2.06-.94-2.06-.94-.94-2.06-.94 2.06-2.06.94z\"/><path d=\"M17.41 7.96l-1.37-1.37c-.4-.4-.92-.59-1.43-.59-.52 0-1.04.2-1.43.59L10.3 9.45l-7.72 7.72c-.78.78-.78 2.05 0 2.83L4 21.41c.39.39.9.59 1.41.59.51 0 1.02-.2 1.41-.59l7.78-7.78 2.81-2.81c.8-.78.8-2.07 0-2.86zM5.41 20L4 18.59l7.72-7.72 1.47 1.35L5.41 20z\"/>\n",
              "  </svg>\n",
              "      </button>\n",
              "      \n",
              "  <style>\n",
              "    .colab-df-container {\n",
              "      display:flex;\n",
              "      flex-wrap:wrap;\n",
              "      gap: 12px;\n",
              "    }\n",
              "\n",
              "    .colab-df-convert {\n",
              "      background-color: #E8F0FE;\n",
              "      border: none;\n",
              "      border-radius: 50%;\n",
              "      cursor: pointer;\n",
              "      display: none;\n",
              "      fill: #1967D2;\n",
              "      height: 32px;\n",
              "      padding: 0 0 0 0;\n",
              "      width: 32px;\n",
              "    }\n",
              "\n",
              "    .colab-df-convert:hover {\n",
              "      background-color: #E2EBFA;\n",
              "      box-shadow: 0px 1px 2px rgba(60, 64, 67, 0.3), 0px 1px 3px 1px rgba(60, 64, 67, 0.15);\n",
              "      fill: #174EA6;\n",
              "    }\n",
              "\n",
              "    [theme=dark] .colab-df-convert {\n",
              "      background-color: #3B4455;\n",
              "      fill: #D2E3FC;\n",
              "    }\n",
              "\n",
              "    [theme=dark] .colab-df-convert:hover {\n",
              "      background-color: #434B5C;\n",
              "      box-shadow: 0px 1px 3px 1px rgba(0, 0, 0, 0.15);\n",
              "      filter: drop-shadow(0px 1px 2px rgba(0, 0, 0, 0.3));\n",
              "      fill: #FFFFFF;\n",
              "    }\n",
              "  </style>\n",
              "\n",
              "      <script>\n",
              "        const buttonEl =\n",
              "          document.querySelector('#df-4539712c-e5d0-4ecf-b147-91adf1f1b97a button.colab-df-convert');\n",
              "        buttonEl.style.display =\n",
              "          google.colab.kernel.accessAllowed ? 'block' : 'none';\n",
              "\n",
              "        async function convertToInteractive(key) {\n",
              "          const element = document.querySelector('#df-4539712c-e5d0-4ecf-b147-91adf1f1b97a');\n",
              "          const dataTable =\n",
              "            await google.colab.kernel.invokeFunction('convertToInteractive',\n",
              "                                                     [key], {});\n",
              "          if (!dataTable) return;\n",
              "\n",
              "          const docLinkHtml = 'Like what you see? Visit the ' +\n",
              "            '<a target=\"_blank\" href=https://colab.research.google.com/notebooks/data_table.ipynb>data table notebook</a>'\n",
              "            + ' to learn more about interactive tables.';\n",
              "          element.innerHTML = '';\n",
              "          dataTable['output_type'] = 'display_data';\n",
              "          await google.colab.output.renderOutput(dataTable, element);\n",
              "          const docLink = document.createElement('div');\n",
              "          docLink.innerHTML = docLinkHtml;\n",
              "          element.appendChild(docLink);\n",
              "        }\n",
              "      </script>\n",
              "    </div>\n",
              "  </div>\n",
              "  "
            ]
          },
          "metadata": {},
          "execution_count": 12
        }
      ]
    },
    {
      "cell_type": "code",
      "source": [
        "test_dataset[test_dataset['Price']>20]"
      ],
      "metadata": {
        "colab": {
          "base_uri": "https://localhost:8080/",
          "height": 1000
        },
        "id": "Dn_Y05DrjJ3n",
        "outputId": "3d63f5c4-a3d4-4f7e-c2c4-ab93f19e924c"
      },
      "execution_count": 13,
      "outputs": [
        {
          "output_type": "execute_result",
          "data": {
            "text/plain": [
              "                                              Name    Location  Year  \\\n",
              "1                    BMW 5 Series 520d Luxury Line       Delhi  2013   \n",
              "22       Mercedes-Benz S Class 2005 2013 S 350 CDI   Bangalore  2009   \n",
              "24                   Jaguar XJ 3.0L Premium Luxury   Hyderabad  2012   \n",
              "36                          Audi A4 35 TDI Premium  Coimbatore  2016   \n",
              "41    Land Rover Discovery Sport SD4 HSE Luxury 7S   Hyderabad  2016   \n",
              "...                                            ...         ...   ...   \n",
              "2447           BMW 5 Series 2013-2017 530d M Sport   Bangalore  2016   \n",
              "2451                               Audi Q3 2.0 TDI   Bangalore  2014   \n",
              "2471             Mercedes-Benz GLA Class 200 Sport       Kochi  2018   \n",
              "2497                    Jaguar XF 2.2 Litre Luxury       Kochi  2016   \n",
              "2509                       Porsche Panamera Diesel   Hyderabad  2013   \n",
              "\n",
              "      Kilometers_Driven Fuel_Type Transmission Owner_Type     Mileage  \\\n",
              "1                 65000    Diesel    Automatic      First  22.48 kmpl   \n",
              "22                98000    Diesel    Automatic     Second   13.5 kmpl   \n",
              "24                50000    Diesel    Automatic      First   12.9 kmpl   \n",
              "36                39237    Diesel    Automatic      First  17.11 kmpl   \n",
              "41                62000    Diesel    Automatic      First  12.51 kmpl   \n",
              "...                 ...       ...          ...        ...         ...   \n",
              "2447              16000    Diesel    Automatic      First  14.69 kmpl   \n",
              "2451              65630    Diesel    Automatic      First  15.73 kmpl   \n",
              "2471              17773    Petrol    Automatic      First   13.7 kmpl   \n",
              "2497              31150    Diesel    Automatic      First  16.36 kmpl   \n",
              "2509              40000    Diesel    Automatic     Second  17.85 kmpl   \n",
              "\n",
              "       Engine       Power  Seats   New_Price  Price  \n",
              "1     1995 CC     190 bhp    5.0  67.87 Lakh  21.26  \n",
              "22    2987 CC     282 bhp    5.0         NaN  25.00  \n",
              "24    2993 CC  271.23 bhp    4.0         NaN  45.00  \n",
              "36    1968 CC  174.33 bhp    5.0         NaN  25.64  \n",
              "41    2179 CC   187.7 bhp    7.0         NaN  44.50  \n",
              "...       ...         ...    ...         ...    ...  \n",
              "2447  2993 CC     258 bhp    5.0         NaN  48.00  \n",
              "2451  1968 CC  174.33 bhp    5.0         NaN  21.75  \n",
              "2471  1991 CC     183 bhp    5.0  39.22 Lakh  26.76  \n",
              "2497  2179 CC   187.7 bhp    5.0         NaN  30.54  \n",
              "2509  2967 CC     300 bhp    4.0         NaN  45.00  \n",
              "\n",
              "[273 rows x 13 columns]"
            ],
            "text/html": [
              "\n",
              "  <div id=\"df-30a0b494-75c4-42cc-91b4-9dd4fda1362d\">\n",
              "    <div class=\"colab-df-container\">\n",
              "      <div>\n",
              "<style scoped>\n",
              "    .dataframe tbody tr th:only-of-type {\n",
              "        vertical-align: middle;\n",
              "    }\n",
              "\n",
              "    .dataframe tbody tr th {\n",
              "        vertical-align: top;\n",
              "    }\n",
              "\n",
              "    .dataframe thead th {\n",
              "        text-align: right;\n",
              "    }\n",
              "</style>\n",
              "<table border=\"1\" class=\"dataframe\">\n",
              "  <thead>\n",
              "    <tr style=\"text-align: right;\">\n",
              "      <th></th>\n",
              "      <th>Name</th>\n",
              "      <th>Location</th>\n",
              "      <th>Year</th>\n",
              "      <th>Kilometers_Driven</th>\n",
              "      <th>Fuel_Type</th>\n",
              "      <th>Transmission</th>\n",
              "      <th>Owner_Type</th>\n",
              "      <th>Mileage</th>\n",
              "      <th>Engine</th>\n",
              "      <th>Power</th>\n",
              "      <th>Seats</th>\n",
              "      <th>New_Price</th>\n",
              "      <th>Price</th>\n",
              "    </tr>\n",
              "  </thead>\n",
              "  <tbody>\n",
              "    <tr>\n",
              "      <th>1</th>\n",
              "      <td>BMW 5 Series 520d Luxury Line</td>\n",
              "      <td>Delhi</td>\n",
              "      <td>2013</td>\n",
              "      <td>65000</td>\n",
              "      <td>Diesel</td>\n",
              "      <td>Automatic</td>\n",
              "      <td>First</td>\n",
              "      <td>22.48 kmpl</td>\n",
              "      <td>1995 CC</td>\n",
              "      <td>190 bhp</td>\n",
              "      <td>5.0</td>\n",
              "      <td>67.87 Lakh</td>\n",
              "      <td>21.26</td>\n",
              "    </tr>\n",
              "    <tr>\n",
              "      <th>22</th>\n",
              "      <td>Mercedes-Benz S Class 2005 2013 S 350 CDI</td>\n",
              "      <td>Bangalore</td>\n",
              "      <td>2009</td>\n",
              "      <td>98000</td>\n",
              "      <td>Diesel</td>\n",
              "      <td>Automatic</td>\n",
              "      <td>Second</td>\n",
              "      <td>13.5 kmpl</td>\n",
              "      <td>2987 CC</td>\n",
              "      <td>282 bhp</td>\n",
              "      <td>5.0</td>\n",
              "      <td>NaN</td>\n",
              "      <td>25.00</td>\n",
              "    </tr>\n",
              "    <tr>\n",
              "      <th>24</th>\n",
              "      <td>Jaguar XJ 3.0L Premium Luxury</td>\n",
              "      <td>Hyderabad</td>\n",
              "      <td>2012</td>\n",
              "      <td>50000</td>\n",
              "      <td>Diesel</td>\n",
              "      <td>Automatic</td>\n",
              "      <td>First</td>\n",
              "      <td>12.9 kmpl</td>\n",
              "      <td>2993 CC</td>\n",
              "      <td>271.23 bhp</td>\n",
              "      <td>4.0</td>\n",
              "      <td>NaN</td>\n",
              "      <td>45.00</td>\n",
              "    </tr>\n",
              "    <tr>\n",
              "      <th>36</th>\n",
              "      <td>Audi A4 35 TDI Premium</td>\n",
              "      <td>Coimbatore</td>\n",
              "      <td>2016</td>\n",
              "      <td>39237</td>\n",
              "      <td>Diesel</td>\n",
              "      <td>Automatic</td>\n",
              "      <td>First</td>\n",
              "      <td>17.11 kmpl</td>\n",
              "      <td>1968 CC</td>\n",
              "      <td>174.33 bhp</td>\n",
              "      <td>5.0</td>\n",
              "      <td>NaN</td>\n",
              "      <td>25.64</td>\n",
              "    </tr>\n",
              "    <tr>\n",
              "      <th>41</th>\n",
              "      <td>Land Rover Discovery Sport SD4 HSE Luxury 7S</td>\n",
              "      <td>Hyderabad</td>\n",
              "      <td>2016</td>\n",
              "      <td>62000</td>\n",
              "      <td>Diesel</td>\n",
              "      <td>Automatic</td>\n",
              "      <td>First</td>\n",
              "      <td>12.51 kmpl</td>\n",
              "      <td>2179 CC</td>\n",
              "      <td>187.7 bhp</td>\n",
              "      <td>7.0</td>\n",
              "      <td>NaN</td>\n",
              "      <td>44.50</td>\n",
              "    </tr>\n",
              "    <tr>\n",
              "      <th>...</th>\n",
              "      <td>...</td>\n",
              "      <td>...</td>\n",
              "      <td>...</td>\n",
              "      <td>...</td>\n",
              "      <td>...</td>\n",
              "      <td>...</td>\n",
              "      <td>...</td>\n",
              "      <td>...</td>\n",
              "      <td>...</td>\n",
              "      <td>...</td>\n",
              "      <td>...</td>\n",
              "      <td>...</td>\n",
              "      <td>...</td>\n",
              "    </tr>\n",
              "    <tr>\n",
              "      <th>2447</th>\n",
              "      <td>BMW 5 Series 2013-2017 530d M Sport</td>\n",
              "      <td>Bangalore</td>\n",
              "      <td>2016</td>\n",
              "      <td>16000</td>\n",
              "      <td>Diesel</td>\n",
              "      <td>Automatic</td>\n",
              "      <td>First</td>\n",
              "      <td>14.69 kmpl</td>\n",
              "      <td>2993 CC</td>\n",
              "      <td>258 bhp</td>\n",
              "      <td>5.0</td>\n",
              "      <td>NaN</td>\n",
              "      <td>48.00</td>\n",
              "    </tr>\n",
              "    <tr>\n",
              "      <th>2451</th>\n",
              "      <td>Audi Q3 2.0 TDI</td>\n",
              "      <td>Bangalore</td>\n",
              "      <td>2014</td>\n",
              "      <td>65630</td>\n",
              "      <td>Diesel</td>\n",
              "      <td>Automatic</td>\n",
              "      <td>First</td>\n",
              "      <td>15.73 kmpl</td>\n",
              "      <td>1968 CC</td>\n",
              "      <td>174.33 bhp</td>\n",
              "      <td>5.0</td>\n",
              "      <td>NaN</td>\n",
              "      <td>21.75</td>\n",
              "    </tr>\n",
              "    <tr>\n",
              "      <th>2471</th>\n",
              "      <td>Mercedes-Benz GLA Class 200 Sport</td>\n",
              "      <td>Kochi</td>\n",
              "      <td>2018</td>\n",
              "      <td>17773</td>\n",
              "      <td>Petrol</td>\n",
              "      <td>Automatic</td>\n",
              "      <td>First</td>\n",
              "      <td>13.7 kmpl</td>\n",
              "      <td>1991 CC</td>\n",
              "      <td>183 bhp</td>\n",
              "      <td>5.0</td>\n",
              "      <td>39.22 Lakh</td>\n",
              "      <td>26.76</td>\n",
              "    </tr>\n",
              "    <tr>\n",
              "      <th>2497</th>\n",
              "      <td>Jaguar XF 2.2 Litre Luxury</td>\n",
              "      <td>Kochi</td>\n",
              "      <td>2016</td>\n",
              "      <td>31150</td>\n",
              "      <td>Diesel</td>\n",
              "      <td>Automatic</td>\n",
              "      <td>First</td>\n",
              "      <td>16.36 kmpl</td>\n",
              "      <td>2179 CC</td>\n",
              "      <td>187.7 bhp</td>\n",
              "      <td>5.0</td>\n",
              "      <td>NaN</td>\n",
              "      <td>30.54</td>\n",
              "    </tr>\n",
              "    <tr>\n",
              "      <th>2509</th>\n",
              "      <td>Porsche Panamera Diesel</td>\n",
              "      <td>Hyderabad</td>\n",
              "      <td>2013</td>\n",
              "      <td>40000</td>\n",
              "      <td>Diesel</td>\n",
              "      <td>Automatic</td>\n",
              "      <td>Second</td>\n",
              "      <td>17.85 kmpl</td>\n",
              "      <td>2967 CC</td>\n",
              "      <td>300 bhp</td>\n",
              "      <td>4.0</td>\n",
              "      <td>NaN</td>\n",
              "      <td>45.00</td>\n",
              "    </tr>\n",
              "  </tbody>\n",
              "</table>\n",
              "<p>273 rows × 13 columns</p>\n",
              "</div>\n",
              "      <button class=\"colab-df-convert\" onclick=\"convertToInteractive('df-30a0b494-75c4-42cc-91b4-9dd4fda1362d')\"\n",
              "              title=\"Convert this dataframe to an interactive table.\"\n",
              "              style=\"display:none;\">\n",
              "        \n",
              "  <svg xmlns=\"http://www.w3.org/2000/svg\" height=\"24px\"viewBox=\"0 0 24 24\"\n",
              "       width=\"24px\">\n",
              "    <path d=\"M0 0h24v24H0V0z\" fill=\"none\"/>\n",
              "    <path d=\"M18.56 5.44l.94 2.06.94-2.06 2.06-.94-2.06-.94-.94-2.06-.94 2.06-2.06.94zm-11 1L8.5 8.5l.94-2.06 2.06-.94-2.06-.94L8.5 2.5l-.94 2.06-2.06.94zm10 10l.94 2.06.94-2.06 2.06-.94-2.06-.94-.94-2.06-.94 2.06-2.06.94z\"/><path d=\"M17.41 7.96l-1.37-1.37c-.4-.4-.92-.59-1.43-.59-.52 0-1.04.2-1.43.59L10.3 9.45l-7.72 7.72c-.78.78-.78 2.05 0 2.83L4 21.41c.39.39.9.59 1.41.59.51 0 1.02-.2 1.41-.59l7.78-7.78 2.81-2.81c.8-.78.8-2.07 0-2.86zM5.41 20L4 18.59l7.72-7.72 1.47 1.35L5.41 20z\"/>\n",
              "  </svg>\n",
              "      </button>\n",
              "      \n",
              "  <style>\n",
              "    .colab-df-container {\n",
              "      display:flex;\n",
              "      flex-wrap:wrap;\n",
              "      gap: 12px;\n",
              "    }\n",
              "\n",
              "    .colab-df-convert {\n",
              "      background-color: #E8F0FE;\n",
              "      border: none;\n",
              "      border-radius: 50%;\n",
              "      cursor: pointer;\n",
              "      display: none;\n",
              "      fill: #1967D2;\n",
              "      height: 32px;\n",
              "      padding: 0 0 0 0;\n",
              "      width: 32px;\n",
              "    }\n",
              "\n",
              "    .colab-df-convert:hover {\n",
              "      background-color: #E2EBFA;\n",
              "      box-shadow: 0px 1px 2px rgba(60, 64, 67, 0.3), 0px 1px 3px 1px rgba(60, 64, 67, 0.15);\n",
              "      fill: #174EA6;\n",
              "    }\n",
              "\n",
              "    [theme=dark] .colab-df-convert {\n",
              "      background-color: #3B4455;\n",
              "      fill: #D2E3FC;\n",
              "    }\n",
              "\n",
              "    [theme=dark] .colab-df-convert:hover {\n",
              "      background-color: #434B5C;\n",
              "      box-shadow: 0px 1px 3px 1px rgba(0, 0, 0, 0.15);\n",
              "      filter: drop-shadow(0px 1px 2px rgba(0, 0, 0, 0.3));\n",
              "      fill: #FFFFFF;\n",
              "    }\n",
              "  </style>\n",
              "\n",
              "      <script>\n",
              "        const buttonEl =\n",
              "          document.querySelector('#df-30a0b494-75c4-42cc-91b4-9dd4fda1362d button.colab-df-convert');\n",
              "        buttonEl.style.display =\n",
              "          google.colab.kernel.accessAllowed ? 'block' : 'none';\n",
              "\n",
              "        async function convertToInteractive(key) {\n",
              "          const element = document.querySelector('#df-30a0b494-75c4-42cc-91b4-9dd4fda1362d');\n",
              "          const dataTable =\n",
              "            await google.colab.kernel.invokeFunction('convertToInteractive',\n",
              "                                                     [key], {});\n",
              "          if (!dataTable) return;\n",
              "\n",
              "          const docLinkHtml = 'Like what you see? Visit the ' +\n",
              "            '<a target=\"_blank\" href=https://colab.research.google.com/notebooks/data_table.ipynb>data table notebook</a>'\n",
              "            + ' to learn more about interactive tables.';\n",
              "          element.innerHTML = '';\n",
              "          dataTable['output_type'] = 'display_data';\n",
              "          await google.colab.output.renderOutput(dataTable, element);\n",
              "          const docLink = document.createElement('div');\n",
              "          docLink.innerHTML = docLinkHtml;\n",
              "          element.appendChild(docLink);\n",
              "        }\n",
              "      </script>\n",
              "    </div>\n",
              "  </div>\n",
              "  "
            ]
          },
          "metadata": {},
          "execution_count": 13
        }
      ]
    },
    {
      "cell_type": "code",
      "source": [
        "test_dataset=test_dataset[test_dataset['Price']<=20]"
      ],
      "metadata": {
        "id": "AOWk8yFfjUez"
      },
      "execution_count": 14,
      "outputs": []
    },
    {
      "cell_type": "code",
      "source": [
        "test_dataset.describe()"
      ],
      "metadata": {
        "colab": {
          "base_uri": "https://localhost:8080/",
          "height": 300
        },
        "id": "R4MCPG7IjCwY",
        "outputId": "b509c72f-9d2e-4489-c946-ca543b7342ee"
      },
      "execution_count": 15,
      "outputs": [
        {
          "output_type": "execute_result",
          "data": {
            "text/plain": [
              "              Year  Kilometers_Driven        Seats        Price\n",
              "count  2247.000000        2247.000000  2230.000000  2247.000000\n",
              "mean   2013.134401       58983.968847     5.267713     6.174700\n",
              "std       3.386199       35216.620410     0.761093     4.081614\n",
              "min    1998.000000         600.000000     0.000000     0.510000\n",
              "25%    2011.000000       35000.000000     5.000000     3.280000\n",
              "50%    2014.000000       55000.000000     5.000000     5.200000\n",
              "75%    2016.000000       75000.000000     5.000000     7.750000\n",
              "max    2019.000000      445000.000000     8.000000    20.000000"
            ],
            "text/html": [
              "\n",
              "  <div id=\"df-487429bc-8a3c-47fa-8217-ddd05c547428\">\n",
              "    <div class=\"colab-df-container\">\n",
              "      <div>\n",
              "<style scoped>\n",
              "    .dataframe tbody tr th:only-of-type {\n",
              "        vertical-align: middle;\n",
              "    }\n",
              "\n",
              "    .dataframe tbody tr th {\n",
              "        vertical-align: top;\n",
              "    }\n",
              "\n",
              "    .dataframe thead th {\n",
              "        text-align: right;\n",
              "    }\n",
              "</style>\n",
              "<table border=\"1\" class=\"dataframe\">\n",
              "  <thead>\n",
              "    <tr style=\"text-align: right;\">\n",
              "      <th></th>\n",
              "      <th>Year</th>\n",
              "      <th>Kilometers_Driven</th>\n",
              "      <th>Seats</th>\n",
              "      <th>Price</th>\n",
              "    </tr>\n",
              "  </thead>\n",
              "  <tbody>\n",
              "    <tr>\n",
              "      <th>count</th>\n",
              "      <td>2247.000000</td>\n",
              "      <td>2247.000000</td>\n",
              "      <td>2230.000000</td>\n",
              "      <td>2247.000000</td>\n",
              "    </tr>\n",
              "    <tr>\n",
              "      <th>mean</th>\n",
              "      <td>2013.134401</td>\n",
              "      <td>58983.968847</td>\n",
              "      <td>5.267713</td>\n",
              "      <td>6.174700</td>\n",
              "    </tr>\n",
              "    <tr>\n",
              "      <th>std</th>\n",
              "      <td>3.386199</td>\n",
              "      <td>35216.620410</td>\n",
              "      <td>0.761093</td>\n",
              "      <td>4.081614</td>\n",
              "    </tr>\n",
              "    <tr>\n",
              "      <th>min</th>\n",
              "      <td>1998.000000</td>\n",
              "      <td>600.000000</td>\n",
              "      <td>0.000000</td>\n",
              "      <td>0.510000</td>\n",
              "    </tr>\n",
              "    <tr>\n",
              "      <th>25%</th>\n",
              "      <td>2011.000000</td>\n",
              "      <td>35000.000000</td>\n",
              "      <td>5.000000</td>\n",
              "      <td>3.280000</td>\n",
              "    </tr>\n",
              "    <tr>\n",
              "      <th>50%</th>\n",
              "      <td>2014.000000</td>\n",
              "      <td>55000.000000</td>\n",
              "      <td>5.000000</td>\n",
              "      <td>5.200000</td>\n",
              "    </tr>\n",
              "    <tr>\n",
              "      <th>75%</th>\n",
              "      <td>2016.000000</td>\n",
              "      <td>75000.000000</td>\n",
              "      <td>5.000000</td>\n",
              "      <td>7.750000</td>\n",
              "    </tr>\n",
              "    <tr>\n",
              "      <th>max</th>\n",
              "      <td>2019.000000</td>\n",
              "      <td>445000.000000</td>\n",
              "      <td>8.000000</td>\n",
              "      <td>20.000000</td>\n",
              "    </tr>\n",
              "  </tbody>\n",
              "</table>\n",
              "</div>\n",
              "      <button class=\"colab-df-convert\" onclick=\"convertToInteractive('df-487429bc-8a3c-47fa-8217-ddd05c547428')\"\n",
              "              title=\"Convert this dataframe to an interactive table.\"\n",
              "              style=\"display:none;\">\n",
              "        \n",
              "  <svg xmlns=\"http://www.w3.org/2000/svg\" height=\"24px\"viewBox=\"0 0 24 24\"\n",
              "       width=\"24px\">\n",
              "    <path d=\"M0 0h24v24H0V0z\" fill=\"none\"/>\n",
              "    <path d=\"M18.56 5.44l.94 2.06.94-2.06 2.06-.94-2.06-.94-.94-2.06-.94 2.06-2.06.94zm-11 1L8.5 8.5l.94-2.06 2.06-.94-2.06-.94L8.5 2.5l-.94 2.06-2.06.94zm10 10l.94 2.06.94-2.06 2.06-.94-2.06-.94-.94-2.06-.94 2.06-2.06.94z\"/><path d=\"M17.41 7.96l-1.37-1.37c-.4-.4-.92-.59-1.43-.59-.52 0-1.04.2-1.43.59L10.3 9.45l-7.72 7.72c-.78.78-.78 2.05 0 2.83L4 21.41c.39.39.9.59 1.41.59.51 0 1.02-.2 1.41-.59l7.78-7.78 2.81-2.81c.8-.78.8-2.07 0-2.86zM5.41 20L4 18.59l7.72-7.72 1.47 1.35L5.41 20z\"/>\n",
              "  </svg>\n",
              "      </button>\n",
              "      \n",
              "  <style>\n",
              "    .colab-df-container {\n",
              "      display:flex;\n",
              "      flex-wrap:wrap;\n",
              "      gap: 12px;\n",
              "    }\n",
              "\n",
              "    .colab-df-convert {\n",
              "      background-color: #E8F0FE;\n",
              "      border: none;\n",
              "      border-radius: 50%;\n",
              "      cursor: pointer;\n",
              "      display: none;\n",
              "      fill: #1967D2;\n",
              "      height: 32px;\n",
              "      padding: 0 0 0 0;\n",
              "      width: 32px;\n",
              "    }\n",
              "\n",
              "    .colab-df-convert:hover {\n",
              "      background-color: #E2EBFA;\n",
              "      box-shadow: 0px 1px 2px rgba(60, 64, 67, 0.3), 0px 1px 3px 1px rgba(60, 64, 67, 0.15);\n",
              "      fill: #174EA6;\n",
              "    }\n",
              "\n",
              "    [theme=dark] .colab-df-convert {\n",
              "      background-color: #3B4455;\n",
              "      fill: #D2E3FC;\n",
              "    }\n",
              "\n",
              "    [theme=dark] .colab-df-convert:hover {\n",
              "      background-color: #434B5C;\n",
              "      box-shadow: 0px 1px 3px 1px rgba(0, 0, 0, 0.15);\n",
              "      filter: drop-shadow(0px 1px 2px rgba(0, 0, 0, 0.3));\n",
              "      fill: #FFFFFF;\n",
              "    }\n",
              "  </style>\n",
              "\n",
              "      <script>\n",
              "        const buttonEl =\n",
              "          document.querySelector('#df-487429bc-8a3c-47fa-8217-ddd05c547428 button.colab-df-convert');\n",
              "        buttonEl.style.display =\n",
              "          google.colab.kernel.accessAllowed ? 'block' : 'none';\n",
              "\n",
              "        async function convertToInteractive(key) {\n",
              "          const element = document.querySelector('#df-487429bc-8a3c-47fa-8217-ddd05c547428');\n",
              "          const dataTable =\n",
              "            await google.colab.kernel.invokeFunction('convertToInteractive',\n",
              "                                                     [key], {});\n",
              "          if (!dataTable) return;\n",
              "\n",
              "          const docLinkHtml = 'Like what you see? Visit the ' +\n",
              "            '<a target=\"_blank\" href=https://colab.research.google.com/notebooks/data_table.ipynb>data table notebook</a>'\n",
              "            + ' to learn more about interactive tables.';\n",
              "          element.innerHTML = '';\n",
              "          dataTable['output_type'] = 'display_data';\n",
              "          await google.colab.output.renderOutput(dataTable, element);\n",
              "          const docLink = document.createElement('div');\n",
              "          docLink.innerHTML = docLinkHtml;\n",
              "          element.appendChild(docLink);\n",
              "        }\n",
              "      </script>\n",
              "    </div>\n",
              "  </div>\n",
              "  "
            ]
          },
          "metadata": {},
          "execution_count": 15
        }
      ]
    },
    {
      "cell_type": "code",
      "source": [
        "X_test=test_dataset.iloc[:,:-1]\n",
        "y_test=test_dataset.iloc[:,-1]"
      ],
      "metadata": {
        "id": "DcvRNR2Xicr3"
      },
      "execution_count": 16,
      "outputs": []
    },
    {
      "cell_type": "code",
      "source": [
        "X_test.info()"
      ],
      "metadata": {
        "colab": {
          "base_uri": "https://localhost:8080/"
        },
        "id": "KVN-UCj2md9D",
        "outputId": "0d218507-aee6-41b1-a98f-feb213cf6509"
      },
      "execution_count": 17,
      "outputs": [
        {
          "output_type": "stream",
          "name": "stdout",
          "text": [
            "<class 'pandas.core.frame.DataFrame'>\n",
            "Int64Index: 2247 entries, 0 to 2519\n",
            "Data columns (total 12 columns):\n",
            " #   Column             Non-Null Count  Dtype  \n",
            "---  ------             --------------  -----  \n",
            " 0   Name               2247 non-null   object \n",
            " 1   Location           2247 non-null   object \n",
            " 2   Year               2247 non-null   int64  \n",
            " 3   Kilometers_Driven  2247 non-null   int64  \n",
            " 4   Fuel_Type          2247 non-null   object \n",
            " 5   Transmission       2247 non-null   object \n",
            " 6   Owner_Type         2247 non-null   object \n",
            " 7   Mileage            2245 non-null   object \n",
            " 8   Engine             2233 non-null   object \n",
            " 9   Power              2233 non-null   object \n",
            " 10  Seats              2230 non-null   float64\n",
            " 11  New_Price          286 non-null    object \n",
            "dtypes: float64(1), int64(2), object(9)\n",
            "memory usage: 228.2+ KB\n"
          ]
        }
      ]
    },
    {
      "cell_type": "code",
      "source": [
        "y_test.info()"
      ],
      "metadata": {
        "colab": {
          "base_uri": "https://localhost:8080/"
        },
        "id": "N1ZsW0g0hKIc",
        "outputId": "9c50338d-bd81-49e1-c62c-45114d4d4a17"
      },
      "execution_count": 18,
      "outputs": [
        {
          "output_type": "stream",
          "name": "stdout",
          "text": [
            "<class 'pandas.core.series.Series'>\n",
            "Int64Index: 2247 entries, 0 to 2519\n",
            "Series name: Price\n",
            "Non-Null Count  Dtype  \n",
            "--------------  -----  \n",
            "2247 non-null   float64\n",
            "dtypes: float64(1)\n",
            "memory usage: 35.1 KB\n"
          ]
        }
      ]
    },
    {
      "cell_type": "markdown",
      "metadata": {
        "id": "dlWuPr5sdt0_"
      },
      "source": [
        "## Exploratory Data Analysis\n",
        "\n",
        "Let's explore the various columns and draw information about how useful each column is. I'll also modify the test data based on training data."
      ]
    },
    {
      "cell_type": "markdown",
      "metadata": {
        "id": "wQCYMQXMdt0_"
      },
      "source": [
        "### Index\n",
        "\n",
        "The first column is the index for each data point and hence we can simply remove it."
      ]
    },
    {
      "cell_type": "markdown",
      "metadata": {
        "id": "KZj6a7Wwdt1A"
      },
      "source": [
        "### Name\n",
        "\n",
        "Let's explore the various cars in the dataset."
      ]
    },
    {
      "cell_type": "code",
      "execution_count": 19,
      "metadata": {
        "colab": {
          "base_uri": "https://localhost:8080/"
        },
        "id": "3KMTPZnadt1B",
        "outputId": "b0a65e97-7a03-48e7-f1d5-e7b69e1dd1d4"
      },
      "outputs": [
        {
          "output_type": "execute_result",
          "data": {
            "text/plain": [
              "Maruti Swift VDI                    27\n",
              "Mahindra XUV500 W8 2WD              26\n",
              "Maruti Ritz VDi                     23\n",
              "Maruti Swift VDI BSIV               23\n",
              "Hyundai i10 Sportz                  20\n",
              "                                    ..\n",
              "Hyundai i20 Asta (o)                 1\n",
              "Honda Jazz 1.2 E i VTEC              1\n",
              "Maruti Ertiga Paseo VXI              1\n",
              "Nissan Sunny 2011-2014 Diesel XL     1\n",
              "Hyundai Xcent 1.1 CRDi S Option      1\n",
              "Name: Name, Length: 1274, dtype: int64"
            ]
          },
          "metadata": {},
          "execution_count": 19
        }
      ],
      "source": [
        "X_train[\"Name\"].value_counts()"
      ]
    },
    {
      "cell_type": "markdown",
      "metadata": {
        "id": "mPVTdAZhdt1B"
      },
      "source": [
        "As it appears, there are several cars in the dataset, some of them with a count higher than 1.\n",
        "Sometimes the resale value of a car also depends on manufacturer of car and hence, I'll extract the manufacturer from this column and add it to the dataset."
      ]
    },
    {
      "cell_type": "code",
      "execution_count": 20,
      "metadata": {
        "id": "vTjTSvoAdt1B"
      },
      "outputs": [],
      "source": [
        "make_train = X_train[\"Name\"].str.split(\" \", expand = True)\n",
        "make_test = X_test[\"Name\"].str.split(\" \", expand = True)"
      ]
    },
    {
      "cell_type": "code",
      "execution_count": 21,
      "metadata": {
        "id": "a2FdLb56dt1C"
      },
      "outputs": [],
      "source": [
        "X_train[\"Manufacturer\"] = make_train[0]\n",
        "X_test[\"Manufacturer\"] = make_test[0]"
      ]
    },
    {
      "cell_type": "markdown",
      "metadata": {
        "id": "YLkrXxVDdt1C"
      },
      "source": [
        "Let's also confirm that there are no null values and identify all unique values."
      ]
    },
    {
      "cell_type": "code",
      "execution_count": 22,
      "metadata": {
        "id": "g_kl4lzWdt1C",
        "outputId": "8dacddb3-6914-425c-9aed-bb15b95e6a9c",
        "colab": {
          "base_uri": "https://localhost:8080/",
          "height": 777
        }
      },
      "outputs": [
        {
          "output_type": "execute_result",
          "data": {
            "text/plain": [
              "Text(0, 0.5, 'Count of cars')"
            ]
          },
          "metadata": {},
          "execution_count": 22
        },
        {
          "output_type": "display_data",
          "data": {
            "text/plain": [
              "<Figure size 1200x800 with 1 Axes>"
            ],
            "image/png": "[encoded data removed]"
          },
          "metadata": {}
        }
      ],
      "source": [
        "plt.figure(figsize = (12, 8))\n",
        "plot = sns.countplot(x = 'Manufacturer', data = X_train)\n",
        "plt.xticks(rotation = 90)\n",
        "for p in plot.patches:\n",
        "    plot.annotate(p.get_height(), \n",
        "                        (p.get_x() + p.get_width() / 2.0, \n",
        "                         p.get_height()), \n",
        "                        ha = 'center', \n",
        "                        va = 'center', \n",
        "                        xytext = (0, 5),\n",
        "                        textcoords = 'offset points')\n",
        "\n",
        "plt.title(\"Count of cars based on manufacturers\")\n",
        "plt.xlabel(\"Manufacturer\")\n",
        "plt.ylabel(\"Count of cars\")"
      ]
    },
    {
      "cell_type": "markdown",
      "metadata": {
        "id": "RWajvmcadt1D"
      },
      "source": [
        "Maximum cars in the dataset are by the manufacturer **Maruti** and there are no null values.\n",
        "\n",
        "I'll also drop the `Name` column."
      ]
    },
    {
      "cell_type": "code",
      "execution_count": 23,
      "metadata": {
        "id": "yUQB-bSydt1E"
      },
      "outputs": [],
      "source": [
        "# X_train.drop(\"Name\", axis = 1, inplace = True)\n",
        "# X_test.drop(\"Name\", axis = 1, inplace = True)\n",
        "\n",
        "X_train[\"Name\"]= X_train[\"Name\"].str.split().str.slice(start=0,stop=3).str.join(' ')\n",
        "X_test[\"Name\"]= X_test[\"Name\"].str.split().str.slice(start=0,stop=3).str.join(' ')"
      ]
    },
    {
      "cell_type": "markdown",
      "metadata": {
        "id": "uTkCxhCPdt1F"
      },
      "source": [
        "### Location\n",
        "\n",
        "Location should not be a determinant for the price of a car and I'll safely remove it."
      ]
    },
    {
      "cell_type": "code",
      "execution_count": 24,
      "metadata": {
        "id": "oR228ljldt1F"
      },
      "outputs": [],
      "source": [
        "X_train.drop(\"Location\", axis = 1, inplace = True)\n",
        "X_test.drop(\"Location\", axis = 1, inplace = True)"
      ]
    },
    {
      "cell_type": "markdown",
      "metadata": {
        "id": "Bdxxfkcadt1G"
      },
      "source": [
        "### Year\n",
        "\n",
        "Year has no significance on its own unless we try to extract how old a car is from this and see how its resale price may get affected."
      ]
    },
    {
      "cell_type": "code",
      "execution_count": 25,
      "metadata": {
        "id": "MMgiqeDkdt1G"
      },
      "outputs": [],
      "source": [
        "curr_time = datetime.datetime.now()\n",
        "X_train['Year'] = X_train['Year'].apply(lambda x : curr_time.year - x)\n",
        "X_test['Year'] = X_test['Year'].apply(lambda x : curr_time.year - x)"
      ]
    },
    {
      "cell_type": "markdown",
      "metadata": {
        "id": "ANkVpzHLdt1G"
      },
      "source": [
        "### Fuel_Type, Transmission,  and Owner_Type\n",
        "\n",
        "All these columns are categorical columns which should be converted to dummy variables before being used."
      ]
    },
    {
      "cell_type": "markdown",
      "metadata": {
        "id": "sBGO8mrqdt1H"
      },
      "source": [
        "### Kilometers_Driven\n",
        "\n",
        "`Kilometers_Driven` is a numerical column with a certain range of values."
      ]
    },
    {
      "cell_type": "code",
      "execution_count": 26,
      "metadata": {
        "id": "u_xdUSV0dt1H",
        "outputId": "835819fb-0ef2-4a6c-9500-ac680bf98522",
        "colab": {
          "base_uri": "https://localhost:8080/"
        }
      },
      "outputs": [
        {
          "output_type": "execute_result",
          "data": {
            "text/plain": [
              "0       72000\n",
              "1       41000\n",
              "2       46000\n",
              "3       87000\n",
              "4       40670\n",
              "        ...  \n",
              "3494    83678\n",
              "3495    91000\n",
              "3496    50000\n",
              "3497    58000\n",
              "3498    80000\n",
              "Name: Kilometers_Driven, Length: 3083, dtype: int64"
            ]
          },
          "metadata": {},
          "execution_count": 26
        }
      ],
      "source": [
        "X_train[\"Kilometers_Driven\"]"
      ]
    },
    {
      "cell_type": "markdown",
      "metadata": {
        "id": "ZZ9bUKPfdt1H"
      },
      "source": [
        "The data range is really varied and the high values might affect prediction, thus, it is really important that scaling be applied to this column for sure."
      ]
    },
    {
      "cell_type": "markdown",
      "metadata": {
        "id": "h5CaLKzQdt1I"
      },
      "source": [
        "## Mileage\n",
        "\n",
        "This column defines the mileage of the car. We need to extract the numerical value out of each string and save it."
      ]
    },
    {
      "cell_type": "code",
      "execution_count": 27,
      "metadata": {
        "id": "OvtR_cmwdt1I"
      },
      "outputs": [],
      "source": [
        "mileage_train = X_train[\"Mileage\"].str.split(\" \", expand = True)\n",
        "mileage_test = X_test[\"Mileage\"].str.split(\" \", expand = True)\n",
        "\n",
        "X_train[\"Mileage\"] = pd.to_numeric(mileage_train[0], errors = 'coerce')\n",
        "X_test[\"Mileage\"] = pd.to_numeric(mileage_test[0], errors = 'coerce')"
      ]
    },
    {
      "cell_type": "code",
      "source": [
        "X_test.info()"
      ],
      "metadata": {
        "colab": {
          "base_uri": "https://localhost:8080/"
        },
        "id": "VgAHh_1mpQDf",
        "outputId": "17ea3c75-f23f-45ea-fdd1-cd6ddc36cc1d"
      },
      "execution_count": 28,
      "outputs": [
        {
          "output_type": "stream",
          "name": "stdout",
          "text": [
            "<class 'pandas.core.frame.DataFrame'>\n",
            "Int64Index: 2247 entries, 0 to 2519\n",
            "Data columns (total 12 columns):\n",
            " #   Column             Non-Null Count  Dtype  \n",
            "---  ------             --------------  -----  \n",
            " 0   Name               2247 non-null   object \n",
            " 1   Year               2247 non-null   int64  \n",
            " 2   Kilometers_Driven  2247 non-null   int64  \n",
            " 3   Fuel_Type          2247 non-null   object \n",
            " 4   Transmission       2247 non-null   object \n",
            " 5   Owner_Type         2247 non-null   object \n",
            " 6   Mileage            2245 non-null   float64\n",
            " 7   Engine             2233 non-null   object \n",
            " 8   Power              2233 non-null   object \n",
            " 9   Seats              2230 non-null   float64\n",
            " 10  New_Price          286 non-null    object \n",
            " 11  Manufacturer       2247 non-null   object \n",
            "dtypes: float64(2), int64(2), object(8)\n",
            "memory usage: 228.2+ KB\n"
          ]
        }
      ]
    },
    {
      "cell_type": "markdown",
      "metadata": {
        "id": "RggGGjLidt1I"
      },
      "source": [
        "Let's check for missing values."
      ]
    },
    {
      "cell_type": "code",
      "execution_count": 29,
      "metadata": {
        "colab": {
          "base_uri": "https://localhost:8080/"
        },
        "id": "3uzazhTedt1I",
        "outputId": "be75cd7a-b4d6-44b6-b102-bcf8f15d7575"
      },
      "outputs": [
        {
          "output_type": "stream",
          "name": "stdout",
          "text": [
            "0\n",
            "2\n"
          ]
        }
      ],
      "source": [
        "print(sum(X_train[\"Mileage\"].isnull()))\n",
        "print(sum(X_test[\"Mileage\"].isnull()))"
      ]
    },
    {
      "cell_type": "markdown",
      "metadata": {
        "id": "sVwleX5bdt1J"
      },
      "source": [
        "There are two missing values in X_test. No missing value in X_train. I'll replace the missing value with the mean value of the column based on the training data."
      ]
    },
    {
      "cell_type": "code",
      "execution_count": 30,
      "metadata": {
        "id": "mVwTT2kNdt1J"
      },
      "outputs": [],
      "source": [
        "X_test[\"Mileage\"].fillna(X_train[\"Mileage\"].astype(\"float64\").mean(), inplace = True)"
      ]
    },
    {
      "cell_type": "code",
      "source": [
        "print(sum(X_train[\"Mileage\"].isnull()))\n",
        "print(sum(X_test[\"Mileage\"].isnull()))"
      ],
      "metadata": {
        "colab": {
          "base_uri": "https://localhost:8080/"
        },
        "id": "zzyD7r1HqXRc",
        "outputId": "ef9462b9-391e-497d-9839-a94d8436e5e8"
      },
      "execution_count": 31,
      "outputs": [
        {
          "output_type": "stream",
          "name": "stdout",
          "text": [
            "0\n",
            "0\n"
          ]
        }
      ]
    },
    {
      "cell_type": "markdown",
      "metadata": {
        "id": "G79PHXD6dt1J"
      },
      "source": [
        "### Engine, Power and Seats\n",
        "\n",
        "The `Engine` values are defined in CC so I need to remove `CC` from the data. Similarly, `Power` has bhp, so I'll remove `bhp` from it. Also, as there are missing values in `Engine`, `Power` and `Seats`, I'll again replace them with the mean."
      ]
    },
    {
      "cell_type": "code",
      "execution_count": 32,
      "metadata": {
        "id": "QJAqIs6pdt1K"
      },
      "outputs": [],
      "source": [
        "cc_train = X_train[\"Engine\"].str.split(\" \", expand = True)\n",
        "cc_test = X_test[\"Engine\"].str.split(\" \", expand = True)\n",
        "X_train[\"Engine\"] = pd.to_numeric(cc_train[0], errors = 'coerce')\n",
        "X_test[\"Engine\"] = pd.to_numeric(cc_test[0], errors = 'coerce')\n",
        "\n",
        "bhp_train = X_train[\"Power\"].str.split(\" \", expand = True)\n",
        "bhp_test = X_test[\"Power\"].str.split(\" \", expand = True)\n",
        "X_train[\"Power\"] = pd.to_numeric(bhp_train[0], errors = 'coerce')\n",
        "X_test[\"Power\"] = pd.to_numeric(bhp_test[0], errors = 'coerce')"
      ]
    },
    {
      "cell_type": "code",
      "execution_count": 33,
      "metadata": {
        "id": "0MUI-ysfdt1K"
      },
      "outputs": [],
      "source": [
        "X_train[\"Engine\"].fillna(X_train[\"Engine\"].astype(\"float64\").mean(), inplace = True)\n",
        "X_test[\"Engine\"].fillna(X_train[\"Engine\"].astype(\"float64\").mean(), inplace = True)\n",
        "\n",
        "X_train[\"Power\"].fillna(X_train[\"Power\"].astype(\"float64\").mean(), inplace = True)\n",
        "X_test[\"Power\"].fillna(X_train[\"Power\"].astype(\"float64\").mean(), inplace = True)\n",
        "\n",
        "X_train[\"Seats\"].fillna(X_train[\"Seats\"].astype(\"float64\").mean(), inplace = True)\n",
        "X_test[\"Seats\"].fillna(X_train[\"Seats\"].astype(\"float64\").mean(), inplace = True)"
      ]
    },
    {
      "cell_type": "markdown",
      "metadata": {
        "id": "6wVxQ6l0dt1K"
      },
      "source": [
        "### New Price\n",
        "\n",
        "As most of the values are missing, I'll drop this column altogether."
      ]
    },
    {
      "cell_type": "code",
      "execution_count": 34,
      "metadata": {
        "id": "CA5kDBNadt1L"
      },
      "outputs": [],
      "source": [
        "X_train.drop([\"New_Price\"], axis = 1, inplace = True)\n",
        "X_test.drop([\"New_Price\"], axis = 1, inplace = True)"
      ]
    },
    {
      "cell_type": "code",
      "source": [
        "X_train.describe()"
      ],
      "metadata": {
        "colab": {
          "base_uri": "https://localhost:8080/",
          "height": 300
        },
        "id": "d1JzWB8t3wHc",
        "outputId": "c5425e58-7e8a-4e04-a74c-b76c65c1baf3"
      },
      "execution_count": 35,
      "outputs": [
        {
          "output_type": "execute_result",
          "data": {
            "text/plain": [
              "              Year  Kilometers_Driven      Mileage       Engine        Power  \\\n",
              "count  3083.000000        3083.000000  3083.000000  3083.000000  3083.000000   \n",
              "mean      9.883231       60183.958806    18.511534  1511.676787   101.036385   \n",
              "std       3.260383       41391.540060     4.506011   494.589399    38.582303   \n",
              "min       4.000000         171.000000     0.000000   624.000000    34.200000   \n",
              "25%       7.000000       36000.000000    15.960000  1197.000000    74.000000   \n",
              "50%       9.000000       55000.000000    18.600000  1396.000000    88.760000   \n",
              "75%      12.000000       75000.000000    21.400000  1598.000000   118.000000   \n",
              "max      25.000000      775000.000000    33.540000  4806.000000   500.000000   \n",
              "\n",
              "             Seats  \n",
              "count  3083.000000  \n",
              "mean      5.292810  \n",
              "std       0.795763  \n",
              "min       2.000000  \n",
              "25%       5.000000  \n",
              "50%       5.000000  \n",
              "75%       5.000000  \n",
              "max      10.000000  "
            ],
            "text/html": [
              "\n",
              "  <div id=\"df-902b6779-6a9f-4440-bc8f-b5e1b437478c\">\n",
              "    <div class=\"colab-df-container\">\n",
              "      <div>\n",
              "<style scoped>\n",
              "    .dataframe tbody tr th:only-of-type {\n",
              "        vertical-align: middle;\n",
              "    }\n",
              "\n",
              "    .dataframe tbody tr th {\n",
              "        vertical-align: top;\n",
              "    }\n",
              "\n",
              "    .dataframe thead th {\n",
              "        text-align: right;\n",
              "    }\n",
              "</style>\n",
              "<table border=\"1\" class=\"dataframe\">\n",
              "  <thead>\n",
              "    <tr style=\"text-align: right;\">\n",
              "      <th></th>\n",
              "      <th>Year</th>\n",
              "      <th>Kilometers_Driven</th>\n",
              "      <th>Mileage</th>\n",
              "      <th>Engine</th>\n",
              "      <th>Power</th>\n",
              "      <th>Seats</th>\n",
              "    </tr>\n",
              "  </thead>\n",
              "  <tbody>\n",
              "    <tr>\n",
              "      <th>count</th>\n",
              "      <td>3083.000000</td>\n",
              "      <td>3083.000000</td>\n",
              "      <td>3083.000000</td>\n",
              "      <td>3083.000000</td>\n",
              "      <td>3083.000000</td>\n",
              "      <td>3083.000000</td>\n",
              "    </tr>\n",
              "    <tr>\n",
              "      <th>mean</th>\n",
              "      <td>9.883231</td>\n",
              "      <td>60183.958806</td>\n",
              "      <td>18.511534</td>\n",
              "      <td>1511.676787</td>\n",
              "      <td>101.036385</td>\n",
              "      <td>5.292810</td>\n",
              "    </tr>\n",
              "    <tr>\n",
              "      <th>std</th>\n",
              "      <td>3.260383</td>\n",
              "      <td>41391.540060</td>\n",
              "      <td>4.506011</td>\n",
              "      <td>494.589399</td>\n",
              "      <td>38.582303</td>\n",
              "      <td>0.795763</td>\n",
              "    </tr>\n",
              "    <tr>\n",
              "      <th>min</th>\n",
              "      <td>4.000000</td>\n",
              "      <td>171.000000</td>\n",
              "      <td>0.000000</td>\n",
              "      <td>624.000000</td>\n",
              "      <td>34.200000</td>\n",
              "      <td>2.000000</td>\n",
              "    </tr>\n",
              "    <tr>\n",
              "      <th>25%</th>\n",
              "      <td>7.000000</td>\n",
              "      <td>36000.000000</td>\n",
              "      <td>15.960000</td>\n",
              "      <td>1197.000000</td>\n",
              "      <td>74.000000</td>\n",
              "      <td>5.000000</td>\n",
              "    </tr>\n",
              "    <tr>\n",
              "      <th>50%</th>\n",
              "      <td>9.000000</td>\n",
              "      <td>55000.000000</td>\n",
              "      <td>18.600000</td>\n",
              "      <td>1396.000000</td>\n",
              "      <td>88.760000</td>\n",
              "      <td>5.000000</td>\n",
              "    </tr>\n",
              "    <tr>\n",
              "      <th>75%</th>\n",
              "      <td>12.000000</td>\n",
              "      <td>75000.000000</td>\n",
              "      <td>21.400000</td>\n",
              "      <td>1598.000000</td>\n",
              "      <td>118.000000</td>\n",
              "      <td>5.000000</td>\n",
              "    </tr>\n",
              "    <tr>\n",
              "      <th>max</th>\n",
              "      <td>25.000000</td>\n",
              "      <td>775000.000000</td>\n",
              "      <td>33.540000</td>\n",
              "      <td>4806.000000</td>\n",
              "      <td>500.000000</td>\n",
              "      <td>10.000000</td>\n",
              "    </tr>\n",
              "  </tbody>\n",
              "</table>\n",
              "</div>\n",
              "      <button class=\"colab-df-convert\" onclick=\"convertToInteractive('df-902b6779-6a9f-4440-bc8f-b5e1b437478c')\"\n",
              "              title=\"Convert this dataframe to an interactive table.\"\n",
              "              style=\"display:none;\">\n",
              "        \n",
              "  <svg xmlns=\"http://www.w3.org/2000/svg\" height=\"24px\"viewBox=\"0 0 24 24\"\n",
              "       width=\"24px\">\n",
              "    <path d=\"M0 0h24v24H0V0z\" fill=\"none\"/>\n",
              "    <path d=\"M18.56 5.44l.94 2.06.94-2.06 2.06-.94-2.06-.94-.94-2.06-.94 2.06-2.06.94zm-11 1L8.5 8.5l.94-2.06 2.06-.94-2.06-.94L8.5 2.5l-.94 2.06-2.06.94zm10 10l.94 2.06.94-2.06 2.06-.94-2.06-.94-.94-2.06-.94 2.06-2.06.94z\"/><path d=\"M17.41 7.96l-1.37-1.37c-.4-.4-.92-.59-1.43-.59-.52 0-1.04.2-1.43.59L10.3 9.45l-7.72 7.72c-.78.78-.78 2.05 0 2.83L4 21.41c.39.39.9.59 1.41.59.51 0 1.02-.2 1.41-.59l7.78-7.78 2.81-2.81c.8-.78.8-2.07 0-2.86zM5.41 20L4 18.59l7.72-7.72 1.47 1.35L5.41 20z\"/>\n",
              "  </svg>\n",
              "      </button>\n",
              "      \n",
              "  <style>\n",
              "    .colab-df-container {\n",
              "      display:flex;\n",
              "      flex-wrap:wrap;\n",
              "      gap: 12px;\n",
              "    }\n",
              "\n",
              "    .colab-df-convert {\n",
              "      background-color: #E8F0FE;\n",
              "      border: none;\n",
              "      border-radius: 50%;\n",
              "      cursor: pointer;\n",
              "      display: none;\n",
              "      fill: #1967D2;\n",
              "      height: 32px;\n",
              "      padding: 0 0 0 0;\n",
              "      width: 32px;\n",
              "    }\n",
              "\n",
              "    .colab-df-convert:hover {\n",
              "      background-color: #E2EBFA;\n",
              "      box-shadow: 0px 1px 2px rgba(60, 64, 67, 0.3), 0px 1px 3px 1px rgba(60, 64, 67, 0.15);\n",
              "      fill: #174EA6;\n",
              "    }\n",
              "\n",
              "    [theme=dark] .colab-df-convert {\n",
              "      background-color: #3B4455;\n",
              "      fill: #D2E3FC;\n",
              "    }\n",
              "\n",
              "    [theme=dark] .colab-df-convert:hover {\n",
              "      background-color: #434B5C;\n",
              "      box-shadow: 0px 1px 3px 1px rgba(0, 0, 0, 0.15);\n",
              "      filter: drop-shadow(0px 1px 2px rgba(0, 0, 0, 0.3));\n",
              "      fill: #FFFFFF;\n",
              "    }\n",
              "  </style>\n",
              "\n",
              "      <script>\n",
              "        const buttonEl =\n",
              "          document.querySelector('#df-902b6779-6a9f-4440-bc8f-b5e1b437478c button.colab-df-convert');\n",
              "        buttonEl.style.display =\n",
              "          google.colab.kernel.accessAllowed ? 'block' : 'none';\n",
              "\n",
              "        async function convertToInteractive(key) {\n",
              "          const element = document.querySelector('#df-902b6779-6a9f-4440-bc8f-b5e1b437478c');\n",
              "          const dataTable =\n",
              "            await google.colab.kernel.invokeFunction('convertToInteractive',\n",
              "                                                     [key], {});\n",
              "          if (!dataTable) return;\n",
              "\n",
              "          const docLinkHtml = 'Like what you see? Visit the ' +\n",
              "            '<a target=\"_blank\" href=https://colab.research.google.com/notebooks/data_table.ipynb>data table notebook</a>'\n",
              "            + ' to learn more about interactive tables.';\n",
              "          element.innerHTML = '';\n",
              "          dataTable['output_type'] = 'display_data';\n",
              "          await google.colab.output.renderOutput(dataTable, element);\n",
              "          const docLink = document.createElement('div');\n",
              "          docLink.innerHTML = docLinkHtml;\n",
              "          element.appendChild(docLink);\n",
              "        }\n",
              "      </script>\n",
              "    </div>\n",
              "  </div>\n",
              "  "
            ]
          },
          "metadata": {},
          "execution_count": 35
        }
      ]
    },
    {
      "cell_type": "markdown",
      "metadata": {
        "id": "ea7rpvV6dt1L"
      },
      "source": [
        "## Data Processing\n",
        "\n",
        "Now that we have worked with the training data, let's create dummy columns for categorical columns before we begin training."
      ]
    },
    {
      "cell_type": "code",
      "execution_count": 36,
      "metadata": {
        "id": "Wgpb8_O3dt1L"
      },
      "outputs": [],
      "source": [
        "X_train = pd.get_dummies(X_train,\n",
        "                         columns = [\"Name\",\"Manufacturer\", \"Fuel_Type\", \"Transmission\", \"Owner_Type\"],\n",
        "                         drop_first = True)"
      ]
    },
    {
      "cell_type": "code",
      "execution_count": 37,
      "metadata": {
        "id": "94A8kQJcdt1M"
      },
      "outputs": [],
      "source": [
        "X_test = pd.get_dummies(X_test,\n",
        "                         columns = [\"Name\",\"Manufacturer\", \"Fuel_Type\", \"Transmission\", \"Owner_Type\"],\n",
        "                         drop_first = True)"
      ]
    },
    {
      "cell_type": "code",
      "source": [
        "X_train.info()"
      ],
      "metadata": {
        "colab": {
          "base_uri": "https://localhost:8080/"
        },
        "id": "sY79j17lr7eB",
        "outputId": "7d8308e8-47a4-4b68-be56-c4308ae01f10"
      },
      "execution_count": 38,
      "outputs": [
        {
          "output_type": "stream",
          "name": "stdout",
          "text": [
            "<class 'pandas.core.frame.DataFrame'>\n",
            "Int64Index: 3083 entries, 0 to 3498\n",
            "Columns: 548 entries, Year to Owner_Type_Third\n",
            "dtypes: float64(4), int64(2), uint8(542)\n",
            "memory usage: 1.8 MB\n"
          ]
        }
      ]
    },
    {
      "cell_type": "code",
      "source": [
        "X_test.info()"
      ],
      "metadata": {
        "colab": {
          "base_uri": "https://localhost:8080/"
        },
        "id": "p9oyrGYasBpe",
        "outputId": "f19e5398-07a3-4692-fdea-a105915661de"
      },
      "execution_count": 39,
      "outputs": [
        {
          "output_type": "stream",
          "name": "stdout",
          "text": [
            "<class 'pandas.core.frame.DataFrame'>\n",
            "Int64Index: 2247 entries, 0 to 2519\n",
            "Columns: 503 entries, Year to Owner_Type_Third\n",
            "dtypes: float64(4), int64(2), uint8(497)\n",
            "memory usage: 1.2 MB\n"
          ]
        }
      ]
    },
    {
      "cell_type": "markdown",
      "metadata": {
        "id": "MnBUv8dbdt1M"
      },
      "source": [
        "It might be possible that the dummy column creation would be different in test and train data, thus, I'd fill in all missing columns with zeros."
      ]
    },
    {
      "cell_type": "code",
      "execution_count": 40,
      "metadata": {
        "id": "Z6S3ilTudt1M",
        "colab": {
          "base_uri": "https://localhost:8080/"
        },
        "outputId": "a60660ce-c0d4-4a27-d5e7-7f2617a58927"
      },
      "outputs": [
        {
          "output_type": "stream",
          "name": "stderr",
          "text": [
            "<ipython-input-40-9176da446f23>:3: PerformanceWarning: DataFrame is highly fragmented.  This is usually the result of calling `frame.insert` many times, which has poor performance.  Consider joining all columns at once using pd.concat(axis=1) instead. To get a de-fragmented frame, use `newframe = frame.copy()`\n",
            "  X_test[col] = 0\n",
            "<ipython-input-40-9176da446f23>:3: PerformanceWarning: DataFrame is highly fragmented.  This is usually the result of calling `frame.insert` many times, which has poor performance.  Consider joining all columns at once using pd.concat(axis=1) instead. To get a de-fragmented frame, use `newframe = frame.copy()`\n",
            "  X_test[col] = 0\n",
            "<ipython-input-40-9176da446f23>:3: PerformanceWarning: DataFrame is highly fragmented.  This is usually the result of calling `frame.insert` many times, which has poor performance.  Consider joining all columns at once using pd.concat(axis=1) instead. To get a de-fragmented frame, use `newframe = frame.copy()`\n",
            "  X_test[col] = 0\n",
            "<ipython-input-40-9176da446f23>:3: PerformanceWarning: DataFrame is highly fragmented.  This is usually the result of calling `frame.insert` many times, which has poor performance.  Consider joining all columns at once using pd.concat(axis=1) instead. To get a de-fragmented frame, use `newframe = frame.copy()`\n",
            "  X_test[col] = 0\n",
            "<ipython-input-40-9176da446f23>:3: PerformanceWarning: DataFrame is highly fragmented.  This is usually the result of calling `frame.insert` many times, which has poor performance.  Consider joining all columns at once using pd.concat(axis=1) instead. To get a de-fragmented frame, use `newframe = frame.copy()`\n",
            "  X_test[col] = 0\n",
            "<ipython-input-40-9176da446f23>:3: PerformanceWarning: DataFrame is highly fragmented.  This is usually the result of calling `frame.insert` many times, which has poor performance.  Consider joining all columns at once using pd.concat(axis=1) instead. To get a de-fragmented frame, use `newframe = frame.copy()`\n",
            "  X_test[col] = 0\n",
            "<ipython-input-40-9176da446f23>:3: PerformanceWarning: DataFrame is highly fragmented.  This is usually the result of calling `frame.insert` many times, which has poor performance.  Consider joining all columns at once using pd.concat(axis=1) instead. To get a de-fragmented frame, use `newframe = frame.copy()`\n",
            "  X_test[col] = 0\n",
            "<ipython-input-40-9176da446f23>:3: PerformanceWarning: DataFrame is highly fragmented.  This is usually the result of calling `frame.insert` many times, which has poor performance.  Consider joining all columns at once using pd.concat(axis=1) instead. To get a de-fragmented frame, use `newframe = frame.copy()`\n",
            "  X_test[col] = 0\n",
            "<ipython-input-40-9176da446f23>:3: PerformanceWarning: DataFrame is highly fragmented.  This is usually the result of calling `frame.insert` many times, which has poor performance.  Consider joining all columns at once using pd.concat(axis=1) instead. To get a de-fragmented frame, use `newframe = frame.copy()`\n",
            "  X_test[col] = 0\n",
            "<ipython-input-40-9176da446f23>:3: PerformanceWarning: DataFrame is highly fragmented.  This is usually the result of calling `frame.insert` many times, which has poor performance.  Consider joining all columns at once using pd.concat(axis=1) instead. To get a de-fragmented frame, use `newframe = frame.copy()`\n",
            "  X_test[col] = 0\n",
            "<ipython-input-40-9176da446f23>:3: PerformanceWarning: DataFrame is highly fragmented.  This is usually the result of calling `frame.insert` many times, which has poor performance.  Consider joining all columns at once using pd.concat(axis=1) instead. To get a de-fragmented frame, use `newframe = frame.copy()`\n",
            "  X_test[col] = 0\n",
            "<ipython-input-40-9176da446f23>:3: PerformanceWarning: DataFrame is highly fragmented.  This is usually the result of calling `frame.insert` many times, which has poor performance.  Consider joining all columns at once using pd.concat(axis=1) instead. To get a de-fragmented frame, use `newframe = frame.copy()`\n",
            "  X_test[col] = 0\n",
            "<ipython-input-40-9176da446f23>:3: PerformanceWarning: DataFrame is highly fragmented.  This is usually the result of calling `frame.insert` many times, which has poor performance.  Consider joining all columns at once using pd.concat(axis=1) instead. To get a de-fragmented frame, use `newframe = frame.copy()`\n",
            "  X_test[col] = 0\n",
            "<ipython-input-40-9176da446f23>:3: PerformanceWarning: DataFrame is highly fragmented.  This is usually the result of calling `frame.insert` many times, which has poor performance.  Consider joining all columns at once using pd.concat(axis=1) instead. To get a de-fragmented frame, use `newframe = frame.copy()`\n",
            "  X_test[col] = 0\n",
            "<ipython-input-40-9176da446f23>:3: PerformanceWarning: DataFrame is highly fragmented.  This is usually the result of calling `frame.insert` many times, which has poor performance.  Consider joining all columns at once using pd.concat(axis=1) instead. To get a de-fragmented frame, use `newframe = frame.copy()`\n",
            "  X_test[col] = 0\n",
            "<ipython-input-40-9176da446f23>:3: PerformanceWarning: DataFrame is highly fragmented.  This is usually the result of calling `frame.insert` many times, which has poor performance.  Consider joining all columns at once using pd.concat(axis=1) instead. To get a de-fragmented frame, use `newframe = frame.copy()`\n",
            "  X_test[col] = 0\n",
            "<ipython-input-40-9176da446f23>:3: PerformanceWarning: DataFrame is highly fragmented.  This is usually the result of calling `frame.insert` many times, which has poor performance.  Consider joining all columns at once using pd.concat(axis=1) instead. To get a de-fragmented frame, use `newframe = frame.copy()`\n",
            "  X_test[col] = 0\n",
            "<ipython-input-40-9176da446f23>:3: PerformanceWarning: DataFrame is highly fragmented.  This is usually the result of calling `frame.insert` many times, which has poor performance.  Consider joining all columns at once using pd.concat(axis=1) instead. To get a de-fragmented frame, use `newframe = frame.copy()`\n",
            "  X_test[col] = 0\n",
            "<ipython-input-40-9176da446f23>:3: PerformanceWarning: DataFrame is highly fragmented.  This is usually the result of calling `frame.insert` many times, which has poor performance.  Consider joining all columns at once using pd.concat(axis=1) instead. To get a de-fragmented frame, use `newframe = frame.copy()`\n",
            "  X_test[col] = 0\n",
            "<ipython-input-40-9176da446f23>:3: PerformanceWarning: DataFrame is highly fragmented.  This is usually the result of calling `frame.insert` many times, which has poor performance.  Consider joining all columns at once using pd.concat(axis=1) instead. To get a de-fragmented frame, use `newframe = frame.copy()`\n",
            "  X_test[col] = 0\n",
            "<ipython-input-40-9176da446f23>:3: PerformanceWarning: DataFrame is highly fragmented.  This is usually the result of calling `frame.insert` many times, which has poor performance.  Consider joining all columns at once using pd.concat(axis=1) instead. To get a de-fragmented frame, use `newframe = frame.copy()`\n",
            "  X_test[col] = 0\n",
            "<ipython-input-40-9176da446f23>:3: PerformanceWarning: DataFrame is highly fragmented.  This is usually the result of calling `frame.insert` many times, which has poor performance.  Consider joining all columns at once using pd.concat(axis=1) instead. To get a de-fragmented frame, use `newframe = frame.copy()`\n",
            "  X_test[col] = 0\n",
            "<ipython-input-40-9176da446f23>:3: PerformanceWarning: DataFrame is highly fragmented.  This is usually the result of calling `frame.insert` many times, which has poor performance.  Consider joining all columns at once using pd.concat(axis=1) instead. To get a de-fragmented frame, use `newframe = frame.copy()`\n",
            "  X_test[col] = 0\n",
            "<ipython-input-40-9176da446f23>:3: PerformanceWarning: DataFrame is highly fragmented.  This is usually the result of calling `frame.insert` many times, which has poor performance.  Consider joining all columns at once using pd.concat(axis=1) instead. To get a de-fragmented frame, use `newframe = frame.copy()`\n",
            "  X_test[col] = 0\n",
            "<ipython-input-40-9176da446f23>:3: PerformanceWarning: DataFrame is highly fragmented.  This is usually the result of calling `frame.insert` many times, which has poor performance.  Consider joining all columns at once using pd.concat(axis=1) instead. To get a de-fragmented frame, use `newframe = frame.copy()`\n",
            "  X_test[col] = 0\n",
            "<ipython-input-40-9176da446f23>:3: PerformanceWarning: DataFrame is highly fragmented.  This is usually the result of calling `frame.insert` many times, which has poor performance.  Consider joining all columns at once using pd.concat(axis=1) instead. To get a de-fragmented frame, use `newframe = frame.copy()`\n",
            "  X_test[col] = 0\n",
            "<ipython-input-40-9176da446f23>:3: PerformanceWarning: DataFrame is highly fragmented.  This is usually the result of calling `frame.insert` many times, which has poor performance.  Consider joining all columns at once using pd.concat(axis=1) instead. To get a de-fragmented frame, use `newframe = frame.copy()`\n",
            "  X_test[col] = 0\n",
            "<ipython-input-40-9176da446f23>:3: PerformanceWarning: DataFrame is highly fragmented.  This is usually the result of calling `frame.insert` many times, which has poor performance.  Consider joining all columns at once using pd.concat(axis=1) instead. To get a de-fragmented frame, use `newframe = frame.copy()`\n",
            "  X_test[col] = 0\n",
            "<ipython-input-40-9176da446f23>:3: PerformanceWarning: DataFrame is highly fragmented.  This is usually the result of calling `frame.insert` many times, which has poor performance.  Consider joining all columns at once using pd.concat(axis=1) instead. To get a de-fragmented frame, use `newframe = frame.copy()`\n",
            "  X_test[col] = 0\n",
            "<ipython-input-40-9176da446f23>:3: PerformanceWarning: DataFrame is highly fragmented.  This is usually the result of calling `frame.insert` many times, which has poor performance.  Consider joining all columns at once using pd.concat(axis=1) instead. To get a de-fragmented frame, use `newframe = frame.copy()`\n",
            "  X_test[col] = 0\n",
            "<ipython-input-40-9176da446f23>:3: PerformanceWarning: DataFrame is highly fragmented.  This is usually the result of calling `frame.insert` many times, which has poor performance.  Consider joining all columns at once using pd.concat(axis=1) instead. To get a de-fragmented frame, use `newframe = frame.copy()`\n",
            "  X_test[col] = 0\n",
            "<ipython-input-40-9176da446f23>:3: PerformanceWarning: DataFrame is highly fragmented.  This is usually the result of calling `frame.insert` many times, which has poor performance.  Consider joining all columns at once using pd.concat(axis=1) instead. To get a de-fragmented frame, use `newframe = frame.copy()`\n",
            "  X_test[col] = 0\n",
            "<ipython-input-40-9176da446f23>:3: PerformanceWarning: DataFrame is highly fragmented.  This is usually the result of calling `frame.insert` many times, which has poor performance.  Consider joining all columns at once using pd.concat(axis=1) instead. To get a de-fragmented frame, use `newframe = frame.copy()`\n",
            "  X_test[col] = 0\n",
            "<ipython-input-40-9176da446f23>:3: PerformanceWarning: DataFrame is highly fragmented.  This is usually the result of calling `frame.insert` many times, which has poor performance.  Consider joining all columns at once using pd.concat(axis=1) instead. To get a de-fragmented frame, use `newframe = frame.copy()`\n",
            "  X_test[col] = 0\n",
            "<ipython-input-40-9176da446f23>:3: PerformanceWarning: DataFrame is highly fragmented.  This is usually the result of calling `frame.insert` many times, which has poor performance.  Consider joining all columns at once using pd.concat(axis=1) instead. To get a de-fragmented frame, use `newframe = frame.copy()`\n",
            "  X_test[col] = 0\n",
            "<ipython-input-40-9176da446f23>:3: PerformanceWarning: DataFrame is highly fragmented.  This is usually the result of calling `frame.insert` many times, which has poor performance.  Consider joining all columns at once using pd.concat(axis=1) instead. To get a de-fragmented frame, use `newframe = frame.copy()`\n",
            "  X_test[col] = 0\n",
            "<ipython-input-40-9176da446f23>:3: PerformanceWarning: DataFrame is highly fragmented.  This is usually the result of calling `frame.insert` many times, which has poor performance.  Consider joining all columns at once using pd.concat(axis=1) instead. To get a de-fragmented frame, use `newframe = frame.copy()`\n",
            "  X_test[col] = 0\n",
            "<ipython-input-40-9176da446f23>:3: PerformanceWarning: DataFrame is highly fragmented.  This is usually the result of calling `frame.insert` many times, which has poor performance.  Consider joining all columns at once using pd.concat(axis=1) instead. To get a de-fragmented frame, use `newframe = frame.copy()`\n",
            "  X_test[col] = 0\n",
            "<ipython-input-40-9176da446f23>:3: PerformanceWarning: DataFrame is highly fragmented.  This is usually the result of calling `frame.insert` many times, which has poor performance.  Consider joining all columns at once using pd.concat(axis=1) instead. To get a de-fragmented frame, use `newframe = frame.copy()`\n",
            "  X_test[col] = 0\n",
            "<ipython-input-40-9176da446f23>:3: PerformanceWarning: DataFrame is highly fragmented.  This is usually the result of calling `frame.insert` many times, which has poor performance.  Consider joining all columns at once using pd.concat(axis=1) instead. To get a de-fragmented frame, use `newframe = frame.copy()`\n",
            "  X_test[col] = 0\n",
            "<ipython-input-40-9176da446f23>:3: PerformanceWarning: DataFrame is highly fragmented.  This is usually the result of calling `frame.insert` many times, which has poor performance.  Consider joining all columns at once using pd.concat(axis=1) instead. To get a de-fragmented frame, use `newframe = frame.copy()`\n",
            "  X_test[col] = 0\n",
            "<ipython-input-40-9176da446f23>:3: PerformanceWarning: DataFrame is highly fragmented.  This is usually the result of calling `frame.insert` many times, which has poor performance.  Consider joining all columns at once using pd.concat(axis=1) instead. To get a de-fragmented frame, use `newframe = frame.copy()`\n",
            "  X_test[col] = 0\n",
            "<ipython-input-40-9176da446f23>:3: PerformanceWarning: DataFrame is highly fragmented.  This is usually the result of calling `frame.insert` many times, which has poor performance.  Consider joining all columns at once using pd.concat(axis=1) instead. To get a de-fragmented frame, use `newframe = frame.copy()`\n",
            "  X_test[col] = 0\n",
            "<ipython-input-40-9176da446f23>:3: PerformanceWarning: DataFrame is highly fragmented.  This is usually the result of calling `frame.insert` many times, which has poor performance.  Consider joining all columns at once using pd.concat(axis=1) instead. To get a de-fragmented frame, use `newframe = frame.copy()`\n",
            "  X_test[col] = 0\n",
            "<ipython-input-40-9176da446f23>:3: PerformanceWarning: DataFrame is highly fragmented.  This is usually the result of calling `frame.insert` many times, which has poor performance.  Consider joining all columns at once using pd.concat(axis=1) instead. To get a de-fragmented frame, use `newframe = frame.copy()`\n",
            "  X_test[col] = 0\n",
            "<ipython-input-40-9176da446f23>:3: PerformanceWarning: DataFrame is highly fragmented.  This is usually the result of calling `frame.insert` many times, which has poor performance.  Consider joining all columns at once using pd.concat(axis=1) instead. To get a de-fragmented frame, use `newframe = frame.copy()`\n",
            "  X_test[col] = 0\n",
            "<ipython-input-40-9176da446f23>:3: PerformanceWarning: DataFrame is highly fragmented.  This is usually the result of calling `frame.insert` many times, which has poor performance.  Consider joining all columns at once using pd.concat(axis=1) instead. To get a de-fragmented frame, use `newframe = frame.copy()`\n",
            "  X_test[col] = 0\n",
            "<ipython-input-40-9176da446f23>:3: PerformanceWarning: DataFrame is highly fragmented.  This is usually the result of calling `frame.insert` many times, which has poor performance.  Consider joining all columns at once using pd.concat(axis=1) instead. To get a de-fragmented frame, use `newframe = frame.copy()`\n",
            "  X_test[col] = 0\n",
            "<ipython-input-40-9176da446f23>:3: PerformanceWarning: DataFrame is highly fragmented.  This is usually the result of calling `frame.insert` many times, which has poor performance.  Consider joining all columns at once using pd.concat(axis=1) instead. To get a de-fragmented frame, use `newframe = frame.copy()`\n",
            "  X_test[col] = 0\n",
            "<ipython-input-40-9176da446f23>:3: PerformanceWarning: DataFrame is highly fragmented.  This is usually the result of calling `frame.insert` many times, which has poor performance.  Consider joining all columns at once using pd.concat(axis=1) instead. To get a de-fragmented frame, use `newframe = frame.copy()`\n",
            "  X_test[col] = 0\n",
            "<ipython-input-40-9176da446f23>:3: PerformanceWarning: DataFrame is highly fragmented.  This is usually the result of calling `frame.insert` many times, which has poor performance.  Consider joining all columns at once using pd.concat(axis=1) instead. To get a de-fragmented frame, use `newframe = frame.copy()`\n",
            "  X_test[col] = 0\n",
            "<ipython-input-40-9176da446f23>:3: PerformanceWarning: DataFrame is highly fragmented.  This is usually the result of calling `frame.insert` many times, which has poor performance.  Consider joining all columns at once using pd.concat(axis=1) instead. To get a de-fragmented frame, use `newframe = frame.copy()`\n",
            "  X_test[col] = 0\n",
            "<ipython-input-40-9176da446f23>:3: PerformanceWarning: DataFrame is highly fragmented.  This is usually the result of calling `frame.insert` many times, which has poor performance.  Consider joining all columns at once using pd.concat(axis=1) instead. To get a de-fragmented frame, use `newframe = frame.copy()`\n",
            "  X_test[col] = 0\n",
            "<ipython-input-40-9176da446f23>:3: PerformanceWarning: DataFrame is highly fragmented.  This is usually the result of calling `frame.insert` many times, which has poor performance.  Consider joining all columns at once using pd.concat(axis=1) instead. To get a de-fragmented frame, use `newframe = frame.copy()`\n",
            "  X_test[col] = 0\n",
            "<ipython-input-40-9176da446f23>:3: PerformanceWarning: DataFrame is highly fragmented.  This is usually the result of calling `frame.insert` many times, which has poor performance.  Consider joining all columns at once using pd.concat(axis=1) instead. To get a de-fragmented frame, use `newframe = frame.copy()`\n",
            "  X_test[col] = 0\n",
            "<ipython-input-40-9176da446f23>:3: PerformanceWarning: DataFrame is highly fragmented.  This is usually the result of calling `frame.insert` many times, which has poor performance.  Consider joining all columns at once using pd.concat(axis=1) instead. To get a de-fragmented frame, use `newframe = frame.copy()`\n",
            "  X_test[col] = 0\n",
            "<ipython-input-40-9176da446f23>:3: PerformanceWarning: DataFrame is highly fragmented.  This is usually the result of calling `frame.insert` many times, which has poor performance.  Consider joining all columns at once using pd.concat(axis=1) instead. To get a de-fragmented frame, use `newframe = frame.copy()`\n",
            "  X_test[col] = 0\n",
            "<ipython-input-40-9176da446f23>:3: PerformanceWarning: DataFrame is highly fragmented.  This is usually the result of calling `frame.insert` many times, which has poor performance.  Consider joining all columns at once using pd.concat(axis=1) instead. To get a de-fragmented frame, use `newframe = frame.copy()`\n",
            "  X_test[col] = 0\n",
            "<ipython-input-40-9176da446f23>:3: PerformanceWarning: DataFrame is highly fragmented.  This is usually the result of calling `frame.insert` many times, which has poor performance.  Consider joining all columns at once using pd.concat(axis=1) instead. To get a de-fragmented frame, use `newframe = frame.copy()`\n",
            "  X_test[col] = 0\n",
            "<ipython-input-40-9176da446f23>:3: PerformanceWarning: DataFrame is highly fragmented.  This is usually the result of calling `frame.insert` many times, which has poor performance.  Consider joining all columns at once using pd.concat(axis=1) instead. To get a de-fragmented frame, use `newframe = frame.copy()`\n",
            "  X_test[col] = 0\n",
            "<ipython-input-40-9176da446f23>:3: PerformanceWarning: DataFrame is highly fragmented.  This is usually the result of calling `frame.insert` many times, which has poor performance.  Consider joining all columns at once using pd.concat(axis=1) instead. To get a de-fragmented frame, use `newframe = frame.copy()`\n",
            "  X_test[col] = 0\n"
          ]
        }
      ],
      "source": [
        "missing_cols = set(X_train.columns) - set(X_test.columns)\n",
        "for col in missing_cols:\n",
        "    X_test[col] = 0\n",
        "X_test = X_test[X_train.columns]"
      ]
    },
    {
      "cell_type": "markdown",
      "metadata": {
        "id": "Z1npOMgZdt1N"
      },
      "source": [
        "Finally, as the last step of data processing, I'll scale the data."
      ]
    },
    {
      "cell_type": "code",
      "execution_count": 41,
      "metadata": {
        "id": "32HvyPdTdt1N"
      },
      "outputs": [],
      "source": [
        "standardScaler = StandardScaler()\n",
        "standardScaler.fit(X_train)\n",
        "X_train = standardScaler.transform(X_train)\n",
        "X_test = standardScaler.transform(X_test)"
      ]
    },
    {
      "cell_type": "code",
      "source": [
        "y_train.info()"
      ],
      "metadata": {
        "colab": {
          "base_uri": "https://localhost:8080/"
        },
        "id": "P0WPzmTfB5-5",
        "outputId": "11d94087-90af-4503-b2bc-83c3034543d8"
      },
      "execution_count": 42,
      "outputs": [
        {
          "output_type": "stream",
          "name": "stdout",
          "text": [
            "<class 'pandas.core.series.Series'>\n",
            "Int64Index: 3083 entries, 0 to 3498\n",
            "Series name: Price\n",
            "Non-Null Count  Dtype  \n",
            "--------------  -----  \n",
            "3083 non-null   float64\n",
            "dtypes: float64(1)\n",
            "memory usage: 48.2 KB\n"
          ]
        }
      ]
    },
    {
      "cell_type": "code",
      "source": [
        "y_train.describe()"
      ],
      "metadata": {
        "colab": {
          "base_uri": "https://localhost:8080/"
        },
        "id": "WoRxDxB5Cas3",
        "outputId": "5f588ebe-d5d8-4500-d093-dabbf3d93cfc"
      },
      "execution_count": 43,
      "outputs": [
        {
          "output_type": "execute_result",
          "data": {
            "text/plain": [
              "count    3083.000000\n",
              "mean        6.165806\n",
              "std         4.133622\n",
              "min         0.440000\n",
              "25%         3.250000\n",
              "50%         5.000000\n",
              "75%         7.750000\n",
              "max        20.000000\n",
              "Name: Price, dtype: float64"
            ]
          },
          "metadata": {},
          "execution_count": 43
        }
      ]
    },
    {
      "cell_type": "markdown",
      "metadata": {
        "id": "SK1WMi6kdt1O"
      },
      "source": [
        "## Training and predicting\n",
        "\n",
        "I'll create a **Linear Regression** model and a **Random Forest** model to train on the data and use it for future predictions."
      ]
    },
    {
      "cell_type": "code",
      "execution_count": 53,
      "metadata": {
        "id": "_Q1wZqyddt1O",
        "outputId": "d73a1ef1-564a-4592-b244-2ca1139142e2",
        "colab": {
          "base_uri": "https://localhost:8080/"
        }
      },
      "outputs": [
        {
          "output_type": "execute_result",
          "data": {
            "text/plain": [
              "-2.6198404578453276e+24"
            ]
          },
          "metadata": {},
          "execution_count": 53
        }
      ],
      "source": [
        "linearRegression = LinearRegression()\n",
        "linearRegression.fit(X_train, y_train)\n",
        "y_pred = linearRegression.predict(X_test)\n",
        "r2_score(y_test, y_pred)"
      ]
    },
    {
      "cell_type": "markdown",
      "source": [
        "The **Linear Regression** model performed with a R2 score of **0.75**."
      ],
      "metadata": {
        "id": "-kmAoIycsomm"
      }
    },
    {
      "cell_type": "code",
      "execution_count": 54,
      "metadata": {
        "id": "CJTkXF0Wdt1P",
        "outputId": "2a7eaadd-0cea-40e2-e8b8-376fdbc204be",
        "colab": {
          "base_uri": "https://localhost:8080/"
        }
      },
      "outputs": [
        {
          "output_type": "execute_result",
          "data": {
            "text/plain": [
              "0.8700024095180117"
            ]
          },
          "metadata": {},
          "execution_count": 54
        }
      ],
      "source": [
        "rf = RandomForestRegressor()\n",
        "rf.fit(X_train, y_train)\n",
        "y_pred = rf.predict(X_test)\n",
        "r2_score(y_test, y_pred)"
      ]
    },
    {
      "cell_type": "code",
      "source": [
        "import pickle\n",
        "\n",
        "pickle.dump(rf,open('RandomForest87.pkl','wb'))"
      ],
      "metadata": {
        "id": "aY15HXPhljLf"
      },
      "execution_count": 55,
      "outputs": []
    },
    {
      "cell_type": "markdown",
      "metadata": {
        "id": "nBz1MCImdt1P"
      },
      "source": [
        "The **Random Forest** model performed the best with a R2 score of **0.85**.\n",
        "\n"
      ]
    },
    {
      "cell_type": "code",
      "source": [
        "dt=DecisionTreeRegressor()\n",
        "dt.fit(X_train, y_train)\n",
        "y_pred = dt.predict(X_test)\n",
        "r2_score(y_test, y_pred)"
      ],
      "metadata": {
        "colab": {
          "base_uri": "https://localhost:8080/"
        },
        "id": "KVafwXp8s7H1",
        "outputId": "aa052c62-a979-4da9-8106-85513c04a06c"
      },
      "execution_count": 46,
      "outputs": [
        {
          "output_type": "execute_result",
          "data": {
            "text/plain": [
              "0.7479619996075306"
            ]
          },
          "metadata": {},
          "execution_count": 46
        }
      ]
    },
    {
      "cell_type": "code",
      "source": [
        "sv=SVR()\n",
        "sv.fit(X_train, y_train)\n",
        "y_pred = sv.predict(X_test)\n",
        "r2_score(y_test, y_pred)"
      ],
      "metadata": {
        "colab": {
          "base_uri": "https://localhost:8080/"
        },
        "id": "2CK3zxkkxPOY",
        "outputId": "1516ebda-b83a-498c-9867-5622f874fe43"
      },
      "execution_count": 47,
      "outputs": [
        {
          "output_type": "execute_result",
          "data": {
            "text/plain": [
              "0.7069444700802553"
            ]
          },
          "metadata": {},
          "execution_count": 47
        }
      ]
    },
    {
      "cell_type": "code",
      "source": [
        "xg=XGBRegressor()\n",
        "xg.fit(X_train, y_train)\n",
        "y_pred = xg.predict(X_test)\n",
        "r2_score(y_test, y_pred)"
      ],
      "metadata": {
        "colab": {
          "base_uri": "https://localhost:8080/"
        },
        "id": "XyKD962mxq3H",
        "outputId": "30fbdd2e-39b0-4461-d9fb-ff42111e97ef"
      },
      "execution_count": 56,
      "outputs": [
        {
          "output_type": "execute_result",
          "data": {
            "text/plain": [
              "0.8830559408339068"
            ]
          },
          "metadata": {},
          "execution_count": 56
        }
      ]
    },
    {
      "cell_type": "code",
      "source": [
        "import pickle\n",
        "\n",
        "pickle.dump(xg,open('XGBRegressor88.pkl','wb'))"
      ],
      "metadata": {
        "id": "Ti-PHzYSlxeo"
      },
      "execution_count": 57,
      "outputs": []
    },
    {
      "cell_type": "code",
      "source": [
        "xg=GradientBoostingRegressor()\n",
        "xg.fit(X_train, y_train)\n",
        "y_pred = xg.predict(X_test)\n",
        "r2_score(y_test, y_pred)"
      ],
      "metadata": {
        "colab": {
          "base_uri": "https://localhost:8080/"
        },
        "id": "y-sGhyBeyJlL",
        "outputId": "30240212-5add-46d9-b6bd-24447a88bba6"
      },
      "execution_count": 58,
      "outputs": [
        {
          "output_type": "execute_result",
          "data": {
            "text/plain": [
              "0.8548587785915411"
            ]
          },
          "metadata": {},
          "execution_count": 58
        }
      ]
    },
    {
      "cell_type": "code",
      "source": [
        "import pickle\n",
        "pickle.dump(xg,open('GradientBoostRegressor85.pkl','wb'))"
      ],
      "metadata": {
        "id": "XOZXBroSmJit"
      },
      "execution_count": 59,
      "outputs": []
    },
    {
      "cell_type": "code",
      "source": [
        "xg=HistGradientBoostingRegressor()\n",
        "xg.fit(X_train, y_train)\n",
        "y_pred = xg.predict(X_test)\n",
        "r2_score(y_test, y_pred)"
      ],
      "metadata": {
        "colab": {
          "base_uri": "https://localhost:8080/"
        },
        "id": "YxHUbN0Q0gVS",
        "outputId": "a9561e92-1fd3-4ba9-e6f0-6691472876d1"
      },
      "execution_count": 61,
      "outputs": [
        {
          "output_type": "execute_result",
          "data": {
            "text/plain": [
              "0.8714439903049098"
            ]
          },
          "metadata": {},
          "execution_count": 61
        }
      ]
    },
    {
      "cell_type": "code",
      "source": [
        "import pickle\n",
        "pickle.dump(xg,open('HistGradientBoostRegressor87_1.pkl','wb'))"
      ],
      "metadata": {
        "id": "_naMkPkImYiL"
      },
      "execution_count": 62,
      "outputs": []
    },
    {
      "cell_type": "code",
      "source": [
        "xg=linear_model.Lasso(alpha=0.1)\n",
        "xg.fit(X_train, y_train)\n",
        "y_pred = xg.predict(X_test)\n",
        "r2_score(y_test, y_pred)"
      ],
      "metadata": {
        "colab": {
          "base_uri": "https://localhost:8080/"
        },
        "id": "us9l5cy32oNc",
        "outputId": "e259f2c1-7802-44be-fc2d-9120ce09ff30"
      },
      "execution_count": 51,
      "outputs": [
        {
          "output_type": "execute_result",
          "data": {
            "text/plain": [
              "0.780766467201788"
            ]
          },
          "metadata": {},
          "execution_count": 51
        }
      ]
    },
    {
      "cell_type": "code",
      "source": [
        "xg=linear_model.BayesianRidge()\n",
        "xg.fit(X_train, y_train)\n",
        "y_pred = xg.predict(X_test)\n",
        "r2_score(y_test, y_pred)"
      ],
      "metadata": {
        "colab": {
          "base_uri": "https://localhost:8080/"
        },
        "id": "f5bODKNd4QYg",
        "outputId": "41de0476-edf4-4142-ef36-d9395d635a7e"
      },
      "execution_count": 63,
      "outputs": [
        {
          "output_type": "execute_result",
          "data": {
            "text/plain": [
              "0.8320651324802371"
            ]
          },
          "metadata": {},
          "execution_count": 63
        }
      ]
    },
    {
      "cell_type": "code",
      "source": [
        "import pickle\n",
        "pickle.dump(xg,open('BayesianRidge83.pkl','wb'))"
      ],
      "metadata": {
        "id": "lP1Ho8Pumojb"
      },
      "execution_count": 64,
      "outputs": []
    }
  ],
  "metadata": {
    "kernelspec": {
      "display_name": "Python 3",
      "language": "python",
      "name": "python3"
    },
    "language_info": {
      "codemirror_mode": {
        "name": "ipython",
        "version": 3
      },
      "file_extension": ".py",
      "mimetype": "text/x-python",
      "name": "python",
      "nbconvert_exporter": "python",
      "pygments_lexer": "ipython3",
      "version": "3.7.4"
    },
    "colab": {
      "provenance": []
    },
    "accelerator": "GPU",
    "gpuClass": "standard"
  },
  "nbformat": 4,
  "nbformat_minor": 0
}